{
 "cells": [
  {
   "cell_type": "code",
   "execution_count": null,
   "metadata": {},
   "outputs": [],
   "source": [
    "import os\n",
    "from PIL import Image\n",
    "import cv2\n",
    "from matplotlib import pyplot as plt\n",
    "import numpy as np\n",
    "import shutil\n",
    "import random"
   ]
  },
  {
   "cell_type": "code",
   "execution_count": null,
   "metadata": {},
   "outputs": [],
   "source": [
    "test_img = Image.open('labelren/pictures/0lbrn.png')\n",
    "coords = open('labelren/coords/0coords.txt').read()\n",
    "fields = eval(open('labelren/lists/0list.txt').read())[::-1]\n",
    "print(fields)\n",
    "coords = coords.replace('[', '').replace(']', '').split(',')\n",
    "x1, y1, x2, y2, x3, y3, x4, y4 = [float(x) for x in coords]\n",
    "y1 = 168 - y1\n",
    "y2 = 168 - y2\n",
    "y3 = 168 - y3\n",
    "y4 = 168 - y4\n",
    "print(x1, y1, x2, y2, x3, y3, x4, y4)\n",
    "plt.imshow(test_img)\n",
    "plt.plot([x1, x2, x3, x4], [y1, y2, y3, y4], 'ro')\n"
   ]
  },
  {
   "cell_type": "code",
   "execution_count": null,
   "metadata": {},
   "outputs": [],
   "source": [
    "M = cv2.getPerspectiveTransform(np.float32([[x1, y1], [x2, y2], [x3, y3], [x4, y4]]), np.float32([(0, 0), (168, 0), (168, 144), (0, 144)]))\n",
    "warped = cv2.warpPerspective(np.array(test_img), M, (168, 144))\n",
    "warped = Image.fromarray(warped)\n",
    "plt.imshow(warped)\n",
    "plt.show()\n",
    "\n",
    "for row in range(6):\n",
    "    for column in range(7):\n",
    "        cropped = warped.crop((column * (168 / 7), row * (144 / 6), (column + 1) * (168 / 7), (row + 1) * (144 / 6)))\n",
    "        # cropped.save(str(row) + str(column) + '.png')\n",
    "        plt.imshow(cropped)\n",
    "        plt.show()\n",
    "        print(fields[row*7 + column])\n",
    "        "
   ]
  },
  {
   "cell_type": "code",
   "execution_count": null,
   "metadata": {},
   "outputs": [],
   "source": [
    "def mirror(img, coords):\n",
    "    img = np.flip(np.array(img), axis=1)\n",
    "    img = Image.fromarray(img)\n",
    "    coords[:, 0] = img.width - coords[:, 0]\n",
    "    return img, coords"
   ]
  },
  {
   "cell_type": "code",
   "execution_count": null,
   "metadata": {},
   "outputs": [],
   "source": [
    "mirrorImg, mirrorCords = mirror(test_img.copy(), np.array([top_left, top_right, bottom_right, bottom_left]))"
   ]
  },
  {
   "cell_type": "code",
   "execution_count": null,
   "metadata": {},
   "outputs": [],
   "source": [
    "plt.imshow(mirrorImg)\n",
    "plt.plot(mirrorCords[:, 0], mirrorCords[:, 1], 'ro')"
   ]
  },
  {
   "cell_type": "code",
   "execution_count": null,
   "metadata": {},
   "outputs": [],
   "source": [
    "while True:\n",
    "    idx = int(input())\n",
    "    test1 = Image.open(f'fields/{idx}.jpg')\n",
    "    with open(f'fields/{idx}.txt') as f:\n",
    "        print(f.read())\n",
    "    plt.imshow(test1)\n",
    "    plt.show()"
   ]
  }
 ],
 "metadata": {
  "interpreter": {
   "hash": "2177f1ca12c1330a133c1d40b46100b268ab447cddcbdfdc0c7b2b7e4840e700"
  },
  "kernelspec": {
   "display_name": "Python 3.8.12 ('myenv')",
   "language": "python",
   "name": "python3"
  },
  "language_info": {
   "codemirror_mode": {
    "name": "ipython",
    "version": 3
   },
   "file_extension": ".py",
   "mimetype": "text/x-python",
   "name": "python",
   "nbconvert_exporter": "python",
   "pygments_lexer": "ipython3",
   "version": "3.8.13"
  },
  "orig_nbformat": 4
 },
 "nbformat": 4,
 "nbformat_minor": 2
}
