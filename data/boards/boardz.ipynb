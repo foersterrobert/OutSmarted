{
 "cells": [
  {
   "cell_type": "code",
   "execution_count": 1,
   "metadata": {},
   "outputs": [],
   "source": [
    "import os"
   ]
  },
  {
   "cell_type": "code",
   "execution_count": 4,
   "metadata": {},
   "outputs": [],
   "source": [
    "for i in range(100):\n",
    "    os.rename('raw/' + str(i) + '.jpg', 'boardz/' + str(i) + '.jpg')\n",
    "    os.rename('raw/' + str(i) + '.txt', 'boardz/' + str(i) + '.txt')\n",
    "\n",
    "for i in range(100):\n",
    "    os.rename('rot90/' + str(i) + '.jpg', 'boardz/' + str(i+100) + '.jpg')\n",
    "    os.rename('rot90/' + str(i) + '.txt', 'boardz/' + str(i+100) + '.txt')\n",
    "\n",
    "for i in range(100):\n",
    "    os.rename('rot180/' + str(i) + '.jpg', 'boardz/' + str(i+200) + '.jpg')\n",
    "    os.rename('rot180/' + str(i) + '.txt', 'boardz/' + str(i+200) + '.txt')\n",
    "\n",
    "for i in range(100):\n",
    "    os.rename('rot270/' + str(i) + '.jpg', 'boardz/' + str(i+300) + '.jpg')\n",
    "    os.rename('rot270/' + str(i) + '.txt', 'boardz/' + str(i+300) + '.txt')\n",
    "\n",
    "for i in range(100):\n",
    "    os.rename('flipped_axis_1/' + str(i) + '.jpg', 'boardz/' + str(i+400) + '.jpg')\n",
    "    os.rename('flipped_axis_1/' + str(i) + '.txt', 'boardz/' + str(i+400) + '.txt')\n",
    "\n",
    "for i in range(100):\n",
    "    os.rename('flipped_axis_1_rot90/' + str(i) + '.jpg', 'boardz/' + str(i+500) + '.jpg')\n",
    "    os.rename('flipped_axis_1_rot90/' + str(i) + '.txt', 'boardz/' + str(i+500) + '.txt')\n",
    "\n",
    "for i in range(100):\n",
    "    os.rename('flipped_axis_1_rot180/' + str(i) + '.jpg', 'boardz/' + str(i+600) + '.jpg')\n",
    "    os.rename('flipped_axis_1_rot180/' + str(i) + '.txt', 'boardz/' + str(i+600) + '.txt')\n",
    "\n",
    "\n",
    "for i in range(100):\n",
    "    os.rename('flipped_axis_1_rot270/' + str(i) + '.jpg', 'boardz/' + str(i+700) + '.jpg')\n",
    "    os.rename('flipped_axis_1_rot270/' + str(i) + '.txt', 'boardz/' + str(i+700) + '.txt')"
   ]
  }
 ],
 "metadata": {
  "interpreter": {
   "hash": "2177f1ca12c1330a133c1d40b46100b268ab447cddcbdfdc0c7b2b7e4840e700"
  },
  "kernelspec": {
   "display_name": "Python 3.8.12 ('myenv')",
   "language": "python",
   "name": "python3"
  },
  "language_info": {
   "codemirror_mode": {
    "name": "ipython",
    "version": 3
   },
   "file_extension": ".py",
   "mimetype": "text/x-python",
   "name": "python",
   "nbconvert_exporter": "python",
   "pygments_lexer": "ipython3",
   "version": "3.8.12"
  },
  "orig_nbformat": 4
 },
 "nbformat": 4,
 "nbformat_minor": 2
}
