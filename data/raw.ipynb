{
 "cells": [
  {
   "cell_type": "code",
   "execution_count": 1,
   "metadata": {},
   "outputs": [],
   "source": [
    "import numpy as np\n",
    "from PIL import Image\n",
    "import array as arr"
   ]
  },
  {
   "cell_type": "code",
   "execution_count": 3,
   "metadata": {},
   "outputs": [],
   "source": [
    "axis=2\n",
    "\n",
    "for i in range(100):\n",
    "    writearray=[]\n",
    "    image=Image.open(\"raw/\"+str(i)+\".jpg\")\n",
    "    image=np.array(image)\n",
    "    if axis==0:\n",
    "        image=np.flip(image, axis=0)\n",
    "    if axis==1:\n",
    "        image=np.flip(image, axis=1)\n",
    "    else:\n",
    "        image=np.flip(image, axis=0)\n",
    "        image=np.flip(image, axis=1)\n",
    "        \n",
    "    image=Image.fromarray(image)\n",
    "    image.save(\"flipped/\"+str(i)+\".jpg\")\n",
    "  \n",
    "    with open(\"raw/\"+str(i)+\".txt\", 'r+') as feiler:\n",
    "        for l in feiler:\n",
    "            strip_line=l.strip()\n",
    "            space_strip_line=str.split(strip_line)\n",
    "            label_ind=space_strip_line[0]\n",
    "            xkord=space_strip_line[1]\n",
    "            ykord=space_strip_line[2]\n",
    "            labelbreite=space_strip_line[3]\n",
    "            labelhöhe=space_strip_line[4]\n",
    "            if axis == 0:\n",
    "                ykordfin=1-float(ykord)\n",
    "                ykordfinal=str(ykordfin)\n",
    "                xkordfinal=xkord\n",
    "            \n",
    "            if axis==1:\n",
    "                xkordfin=1-float(xkord)\n",
    "                xkordfinal=str(xkordfin)\n",
    "                ykordfinal=ykord\n",
    "            \n",
    "            else:\n",
    "                ykordfin=1-float(ykord)\n",
    "                xkordfin=1-float(xkord)\n",
    "                xkordfinal=str(xkordfin)\n",
    "                ykordfinal=str(ykordfin)\n",
    "\n",
    "            arr=np.arange(9).reshape(3,3)\n",
    "            n=int(label_ind)\n",
    "            row=n//3\n",
    "            column=n%3\n",
    "\n",
    "            if axis==0:\n",
    "                arr=np.flip(arr,axis=0)\n",
    "                variable=arr[row,column]\n",
    "                label_ind_fin=variable \n",
    "            \n",
    "            if axis==1:\n",
    "                arr=np.flip(arr,axis=1)\n",
    "                variable=arr[row,column]\n",
    "                label_ind_fin=variable \n",
    "            \n",
    "            else:\n",
    "                arr=np.flip(arr,axis=0)\n",
    "                arr=np.flip(arr,axis=1)\n",
    "                variable=arr[row,column]\n",
    "                label_ind_fin=variable \n",
    "\n",
    "            listarray=[str(label_ind_fin), xkordfinal, ykordfinal, labelbreite, labelhöhe]\n",
    "            writearray.append(listarray)\n",
    "\n",
    "    with open (\"flipped/\"+str(i)+\".txt\", 'w+') as writer:\n",
    "        for j in sorted(writearray):\n",
    "            finalstring=\" \".join(j)\n",
    "            writer.write(finalstring+\"\\n\")\n",
    "        "
   ]
  }
 ],
 "metadata": {
  "interpreter": {
   "hash": "2177f1ca12c1330a133c1d40b46100b268ab447cddcbdfdc0c7b2b7e4840e700"
  },
  "kernelspec": {
   "display_name": "Python 3.8.12 ('myenv')",
   "language": "python",
   "name": "python3"
  },
  "language_info": {
   "codemirror_mode": {
    "name": "ipython",
    "version": 3
   },
   "file_extension": ".py",
   "mimetype": "text/x-python",
   "name": "python",
   "nbconvert_exporter": "python",
   "pygments_lexer": "ipython3",
   "version": "3.8.12"
  },
  "orig_nbformat": 4
 },
 "nbformat": 4,
 "nbformat_minor": 2
}
