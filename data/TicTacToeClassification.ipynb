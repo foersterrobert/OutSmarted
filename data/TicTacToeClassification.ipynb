{
 "cells": [
  {
   "cell_type": "code",
   "execution_count": null,
   "metadata": {},
   "outputs": [],
   "source": [
    "import torch\n",
    "import torch.nn as nn\n",
    "import torch.nn.functional as F\n",
    "from torch.utils.data import Dataset, DataLoader\n",
    "from torch.optim import Adam\n",
    "import os\n",
    "import pandas as pd"
   ]
  },
  {
   "cell_type": "code",
   "execution_count": null,
   "metadata": {},
   "outputs": [],
   "source": [
    "class TicTacToeDataset(Dataset):\n",
    "    def __init__(self):\n",
    "        self.img_dir = 'train'\n",
    "\n",
    "    def __len__(self):\n",
    "        return len(self.data)\n",
    "\n",
    "    def __getitem__(self, idx):\n",
    "        return self.data[idx]"
   ]
  },
  {
   "cell_type": "code",
   "execution_count": null,
   "metadata": {},
   "outputs": [],
   "source": [
    "class Model(nn.Module):\n",
    "    def __init__(self):\n",
    "        super().__init__()\n",
    "        self.seq = nn.Sequential(\n",
    "            self._block(1, 18, 3),\n",
    "            self._block(18, 36, 3),\n",
    "            self._block(36, 48, 3),\n",
    "            self._block(48, 64, 3),\n",
    "            self._block(64, 80, 3),\n",
    "            self._block(80, 96, 3),\n",
    "            self._block(96, 112, 3),\n",
    "            self._block(112, 128, 3),\n",
    "            self._block(128, 144, 3),\n",
    "            self._block(144, 156, 3),\n",
    "            Flatten(),\n",
    "            nn.Linear(64*156, 3, bias=False),\n",
    "            nn.BatchNorm1d(3),\n",
    "        )\n",
    "\n",
    "    def _block(self, input_dim, output_dim, kernel_size):\n",
    "        return nn.Sequential(\n",
    "            nn.Conv2d(input_dim, output_dim, kernel_size, bias=False),\n",
    "            nn.BatchNorm2d(output_dim),\n",
    "            nn.ReLU()\n",
    "        )\n",
    "\n",
    "    def forward(self, x):\n",
    "        x = self.seq(x)\n",
    "        return F.log_softmax(x, dim=1)\n",
    "\n",
    "class Flatten(nn.Module):\n",
    "    def forward(self, x):\n",
    "        return torch.flatten(x.permute(0, 2, 3, 1), 1)\n"
   ]
  },
  {
   "cell_type": "code",
   "execution_count": null,
   "metadata": {},
   "outputs": [],
   "source": [
    "model = Model()\n",
    "optimizer = Adam(model.parameters(), lr=0.001)\n",
    "\n",
    "dataset = TicTacToeDataset()\n",
    "dataloader = DataLoader(dataset, batch_size=32, shuffle=True)"
   ]
  },
  {
   "cell_type": "code",
   "execution_count": null,
   "metadata": {},
   "outputs": [],
   "source": [
    "for (x, y) in dataloader:\n",
    "    y_pred = model(x)\n",
    "    loss = F.nll_loss(y_pred, y)\n",
    "    optimizer.zero_grad()\n",
    "    loss.backward()\n",
    "    optimizer.step()"
   ]
  }
 ],
 "metadata": {
  "language_info": {
   "name": "python"
  },
  "orig_nbformat": 4
 },
 "nbformat": 4,
 "nbformat_minor": 2
}
