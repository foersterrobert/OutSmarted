{
 "cells": [
  {
   "cell_type": "code",
   "execution_count": 37,
   "metadata": {},
   "outputs": [
    {
     "name": "stdout",
     "output_type": "stream",
     "text": [
      "0\n",
      "1\n"
     ]
    }
   ],
   "source": [
    "\n",
    "import requests as r\n",
    "from bs4 import BeautifulSoup as bs4\n",
    "URLs = [\"https://www.google.com/search?q=tic+tac+toe+hand+drawn&tbm=isch&client=ubuntu&hs=6jb&hl=en-US&sa=X&ved=2ahUKEwiqieOrpYr5AhXYQPEDHa_ADCoQBXoECAEQQQ&biw=1920&bih=995\",\n",
    "        \"https://www.google.com/search?q=tic+tac+toe&client=ubuntu&hs=6jb&channel=fs&source=lnms&tbm=isch&sa=X&ved=2ahUKEwjl7LeLoYr5AhVB8LsIHdPpCTMQ_AUoAXoECAIQAw&biw=1920&bih=995\"\n",
    "        ]\n",
    "\n",
    "def fetch_imgaes(url):\n",
    "    getURL = r.get(url, headers={\"User-Agent\":\"Mozilla/5.0\"})\n",
    "    soup = bs4(getURL.text, 'html.parser')\n",
    "    \n",
    "    images = soup.find_all('img')\n",
    "    resolvedURLs = []\n",
    "    \n",
    "    for image in images:\n",
    "        src = image.get('src')\n",
    "        resolvedURLs.append(r.compat.urljoin(url, src))\n",
    "    \n",
    "    for image in resolvedURLs:\n",
    "        webs = r.get(image)\n",
    "        open('images/' + image.split('/')[-1], 'wb').write(webs.content)\n",
    "\n",
    "for i, j in enumerate(URLs):\n",
    "    print(i)\n",
    "    fetch_imgaes(URLs[i])"
   ]
  },
  {
   "cell_type": "code",
   "execution_count": 38,
   "metadata": {},
   "outputs": [
    {
     "name": "stdout",
     "output_type": "stream",
     "text": [
      "0 images?q=tbn:ANd9GcRQlty8mTnmId6Xra8_ySK_Gcg9-W05YFWdLqDbSSX5drSu5dLIT7B8xhqf7A&s\n",
      "1 images?q=tbn:ANd9GcR4dtaOJ2wm94zoTdo53MYtCOvVEPDRj2pBMIq-0cfuspcbPJH7pCVDZqS9wBg&s\n",
      "2 images?q=tbn:ANd9GcQSgp65axrEMoLGWDYVRvECNR6LIeXLe9bIdsKDyZdQDl-cl-Sfe4K3HqIqfg&s\n",
      "3 googlelogo_desk_heirloom_color_150x55dp.gif\n",
      "4 images?q=tbn:ANd9GcR2cbFMgoV4kf6Vq5F2rvci7m7aVBDo26dVec5yH0e3dN0rgP3ZGRPvqLHuGw&s\n",
      "5 images?q=tbn:ANd9GcTq-nDODyM6eF2hQCZvsfbPaUU6I-JUT6KAHKSTuGCvEj_BcQeoVBn06Z7zhL0&s\n",
      "6 images?q=tbn:ANd9GcQcPiYeZVuvtm6Gw-zkKvnxS0q4f1sxmRBFOwV4ZtHt54ePyXHhyfJg61zBCg&s\n",
      "7 images?q=tbn:ANd9GcThFgcd5peL5TF9Jw0qvJCjk8IIqT1VK_j7ekxSmV8qDBRJUJ5pjGedFRN03Q&s\n",
      "8 images?q=tbn:ANd9GcQ4L__h-Ta8TvkYpv-8Z83SNxhfTr4mMI9I3SdPk8bnrfuC-6a6thGAGJSO7g&s\n",
      "9 images?q=tbn:ANd9GcSjGzfwmYG41iBkJQNx4Rm5rZoiQTljKWW1Zn74vyDPVCN8HY5b-gzxY1RkLQ&s\n",
      "10 images?q=tbn:ANd9GcS05A01jezrat5OuGIviDrGVywFYuGw05BN19syu7OPRbVmKZBQXCuT9KzhQ9M&s\n",
      "11 images?q=tbn:ANd9GcRtF4qtf0QnwgeEdGO390sJJCMdFK660m_0Mevd-LQ5363o4hzePwuY1vWydXc&s\n",
      "12 images?q=tbn:ANd9GcT5dEKhBKKjWy3PFg0chQ_y5FEaB2biyPqGeao76Q7Wqu9CVcXkR415TOSZhA&s\n",
      "13 images?q=tbn:ANd9GcSu4_O63IcaRq6Vp1IP3tEU5W0BGv1su5lgKQckhzWTMLrKCmOw9Fotl2R1RA&s\n",
      "14 images?q=tbn:ANd9GcRUI4x8gOm7gznX3h0B4suhoFkwsQYl19mSLZ9YVOg3ZPL2EAvqlJ8yl9-pvA&s\n",
      "15 images?q=tbn:ANd9GcQa5HdQy_Wk4sZ1KL39zcnVX1NYNYLzIbxeMcnaw73qiE4OoCGO_eSOp42XXPk&s\n",
      "16 images?q=tbn:ANd9GcQJWFBYcBNgFfmmqubuAuaeWR2Sb5OwqNIInOKeWhggJYPxDEwISJjlfVl8_cs&s\n",
      "17 images?q=tbn:ANd9GcTp4TCgJDsdPRKMDSvt0MZjhEavQbB2eucc468GwlXUUEoic7frzAYureb4dA&s\n",
      "18 images?q=tbn:ANd9GcRJGVodTg0nqxhKMYcrFfUZBUwHrP_Msisdxg0yQbnLFATkTQMIYU194Quueg&s\n",
      "19 images?q=tbn:ANd9GcR6K7x76hIzTVoqBbPN4ROoH5KDaIHDdgskV7WqxVA5IcarD9GgfFU6eqnjWQ&s\n",
      "20 images?q=tbn:ANd9GcRd0uLNmGcOsm0FSrMe3f6Vp2-R3uBPN-uINPFP71K_z06CrqypGniEs68Kvg&s\n",
      "21 images?q=tbn:ANd9GcQoZrgOW5y3cJVlotytjor6UjeaN2BZpeK-lyRDeWj-ZvprhN3sK69opcsXNg&s\n",
      "22 images?q=tbn:ANd9GcSQlM0HRAWSCMElLk6NOAII9tJG8TyyzclgwV_pTNe6P9JxmOJIFA6Ut7jP7g&s\n",
      "23 images?q=tbn:ANd9GcRcZ2Ehp_12cOL1cnFtMY7KeGmIxIO1RXxlDe4CgxwYnw0MZPeL5rAhnM9SGtA&s\n",
      "24 images?q=tbn:ANd9GcQzfegoB_CPLkyjgCfzthSxj6PzcebWFyjuIGXyFpcgafEHPELJzg8P25kNww&s\n",
      "25 images?q=tbn:ANd9GcRUR0Gl1-F1K312cYgg3xqgYicgZw4toNYahxMBcrKBG_PujsjAWNvSpv1oIA&s\n",
      "26 images?q=tbn:ANd9GcR5sPfUm0Ggg9nA2ibB0BNPOqFj87WhjEn5O8PWiUdiH7Xt337qkO0xj4zPKQM&s\n",
      "27 images?q=tbn:ANd9GcQngVL6bz7Gwm0hYZP8e_ZJarzLIyb4-sUf99u-H3NgNO9HftobXvclnWr5nPA&s\n",
      "28 images?q=tbn:ANd9GcRvIauO4k4L1_6YxBMyLYLN3buSqtG1KRcfPII_GZNSVdWUde139TmDXAFFy4s&s\n",
      "29 images?q=tbn:ANd9GcSTJXR1zXng3Mf17fnSpvp2XpNl3boJNYJ1tSdjSJlRnajEAmux9VGjfuLWFpA&s\n",
      "30 images?q=tbn:ANd9GcT3Ezkgt1Gx-T6onIu7U5XQiD48O9swz7qlIfv0j9iJvNKAJeennhJH3NTaUk8&s\n",
      "31 images?q=tbn:ANd9GcQf20_gYccbw-lxM6XyapcgkOwIQS6WQEfHmf2iK9LAaiFfqier0Xd-fUeH_GU&s\n",
      "32 images?q=tbn:ANd9GcRZxU5tBQSLLHjhuRULot85t8FYaAqk9QOB4rpbKARKk0lTIYnuFcezfqYgQDU&s\n",
      "33 images?q=tbn:ANd9GcRODf53OioXWJgdwg_cKPEvriTW78lD7etJhqpY3fHndMItOFSYXfkhPGsHpMA&s\n",
      "34 images?q=tbn:ANd9GcReprq7FemFjb2BdiBuwb5UdKQy98N9V30CGcsLJboHe-q__SvjKwsuXUQrKMc&s\n",
      "35 images?q=tbn:ANd9GcTBsYZYPvcrT8Ia-WwW2QlobhYk95COZhs36TH70shBo9ekeUn-e7yGeHmrgVU&s\n",
      "36 images?q=tbn:ANd9GcRXx69uRj44QOcpZ-5sx8t_b1W2NBsQxZHD0mstq-nUrS_QSe2pVM_4FV3FGA&s\n",
      "37 images?q=tbn:ANd9GcR-TZu737gOfJnzQw45XSlVVxnxOWqEiVP39g4eAUZF1cI62fJjHfMrHCu7p2I&s\n",
      "38 images?q=tbn:ANd9GcQDCHoLcQn_aJ6FPm39UOJmgBtZu2o-o00DbszpHtVYlhGLI8VRrpgcc6KHDQ&s\n",
      "39 images?q=tbn:ANd9GcQuhMt_tEE9v69VJgh9YKSjP0bg-lnnWRDgh7KWnxmi5PSzunaRsju3aGE-KQ&s\n",
      "40 images?q=tbn:ANd9GcQ0F3A296OOntdci989WSKzX0oh7g3fVN2uhyFb-MvI46eKYWYahJLPiYyCPQ&s\n"
     ]
    }
   ],
   "source": [
    "import os\n",
    "\n",
    "for counter, filename in enumerate(os.listdir('images')):\n",
    "    print(counter, filename)\n",
    "    os.system(\"cp images/\" + \"\\\"\" + filename  + \"\\\"\" + \" \" + \"images_renamed/\" + str(counter))"
   ]
  }
 ],
 "metadata": {
  "kernelspec": {
   "display_name": "Python 3.10.4 64-bit",
   "language": "python",
   "name": "python3"
  },
  "language_info": {
   "codemirror_mode": {
    "name": "ipython",
    "version": 3
   },
   "file_extension": ".py",
   "mimetype": "text/x-python",
   "name": "python",
   "nbconvert_exporter": "python",
   "pygments_lexer": "ipython3",
   "version": "3.10.4"
  },
  "orig_nbformat": 4,
  "vscode": {
   "interpreter": {
    "hash": "31f2aee4e71d21fbe5cf8b01ff0e069b9275f58929596ceb00d14d90e3e16cd6"
   }
  }
 },
 "nbformat": 4,
 "nbformat_minor": 2
}
