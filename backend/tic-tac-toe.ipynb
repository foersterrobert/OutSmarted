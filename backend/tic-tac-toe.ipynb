{
 "cells": [
  {
   "cell_type": "code",
   "execution_count": 102,
   "metadata": {},
   "outputs": [
    {
     "name": "stdout",
     "output_type": "stream",
     "text": [
      "0 0 0 \n",
      "0 0 0 \n",
      "0 0 0 \n"
     ]
    }
   ],
   "source": [
    "import numpy as np\n",
    "#create a numpy array\n",
    "global field\n",
    "field = np.array([[0,0,0],[0,0,0],[0,0,0]], dtype=np.int8)\n",
    "#create a numpy array with the winning combinations\n",
    "def printfield():\n",
    "    for i in range(3):\n",
    "        for j in range(3):\n",
    "            print(field[i,j], end=\" \")\n",
    "        print()\n",
    "printfield()"
   ]
  },
  {
   "cell_type": "code",
   "execution_count": 83,
   "metadata": {},
   "outputs": [],
   "source": [
    "def checkForWin():\n",
    "    \n",
    "    \n",
    "    if (max(field.sum(axis=1)) == 3 or max(field.sum(axis=0)) == 3):\n",
    "        return 1\n",
    "    elif (min(field.sum(axis=1)) == -3 or min(field.sum(axis=0)) == -3):\n",
    "        return -1\n",
    "    \n",
    "    #check for a win in the row\n",
    "    for i in range(3):\n",
    "        if field[i,0] == field[i,1] == field[i,2] != 0:\n",
    "            return True\n",
    "    #check for a win in the column\n",
    "    for i in range(3):\n",
    "        if field[0,i] == field[1,i] == field[2,i] != 0:\n",
    "            return True\n",
    "    #check for a win in the diagonal\n",
    "    if field[0,0] == field[1,1] == field[2,2] != 0:\n",
    "        return True\n",
    "    if field[0,2] == field[1,1] == field[2,0] != 0:\n",
    "        return True\n",
    "    return False"
   ]
  },
  {
   "cell_type": "code",
   "execution_count": 84,
   "metadata": {},
   "outputs": [],
   "source": [
    "def minimax(field, depth, isMaximizing):\n",
    "    if (checkForWin()):\n",
    "        if (isMaximizing):\n",
    "            print()"
   ]
  },
  {
   "cell_type": "code",
   "execution_count": 110,
   "metadata": {},
   "outputs": [
    {
     "name": "stdout",
     "output_type": "stream",
     "text": [
      "\n"
     ]
    }
   ],
   "source": [
    "def bestmove():\n",
    "    bestScore = -1000\n",
    "    for i in range(3):\n",
    "        for j in range(3):\n",
    "            if field[i][j] == 0:\n",
    "                field[i][j] = -2\n",
    "                # print(\"Possible move: \", i, j)\n",
    "                score = minimax(field)\n",
    "                # printfield()\n",
    "                field[i][j] = 0\n",
    "                if score > bestScore:\n",
    "                    bestScore = score\n",
    "                    move = (i,j)\n",
    "                    print(move)\n",
    "    field[move[0]][move[1]] = -2\n",
    "                    \n",
    "print()"
   ]
  },
  {
   "cell_type": "code",
   "execution_count": 111,
   "metadata": {},
   "outputs": [],
   "source": [
    "def playerinput():\n",
    "    while True:\n",
    "        x = int(input(\"Enter the row: \"))\n",
    "        y = int(input(\"Enter the column: \"))\n",
    "        if field[x][y] == 0:\n",
    "            field[x][y] = 1\n",
    "            break\n",
    "        else:\n",
    "            print(\"Invalid move\")\n",
    "            printfield()\n",
    "            playerinput()"
   ]
  },
  {
   "cell_type": "code",
   "execution_count": 112,
   "metadata": {},
   "outputs": [
    {
     "name": "stdout",
     "output_type": "stream",
     "text": [
      "0 0 0 \n",
      "0 0 0 \n",
      "0 0 0 \n",
      "(0, 0)\n",
      "[[-2, 0, 0], [0, 1, 0], [0, 0, 0]]\n",
      "-2 0 0 \n",
      "0 1 0 \n",
      "0 0 0 \n",
      "(0, 1)\n",
      "[[-2, -2, 0], [0, 1, 0], [1, 0, 0]]\n",
      "-2 -2 0 \n",
      "0 1 0 \n",
      "1 0 0 \n"
     ]
    },
    {
     "ename": "ValueError",
     "evalue": "invalid literal for int() with base 10: ''",
     "output_type": "error",
     "traceback": [
      "\u001b[0;31m---------------------------------------------------------------------------\u001b[0m",
      "\u001b[0;31mValueError\u001b[0m                                Traceback (most recent call last)",
      "\u001b[1;32m/home/macbook-ubuntu/git/OutSmarted/tic-tac-toe-algorithm/tic-tac-toe.ipynb Cell 6'\u001b[0m in \u001b[0;36m<module>\u001b[0;34m\u001b[0m\n\u001b[1;32m      <a href='vscode-notebook-cell:/home/macbook-ubuntu/git/OutSmarted/tic-tac-toe-algorithm/tic-tac-toe.ipynb#ch0000001?line=1'>2</a>\u001b[0m \u001b[39mwhile\u001b[39;00m (checkForWin() \u001b[39m==\u001b[39m \u001b[39mFalse\u001b[39;00m):\n\u001b[1;32m      <a href='vscode-notebook-cell:/home/macbook-ubuntu/git/OutSmarted/tic-tac-toe-algorithm/tic-tac-toe.ipynb#ch0000001?line=2'>3</a>\u001b[0m     printfield()\n\u001b[0;32m----> <a href='vscode-notebook-cell:/home/macbook-ubuntu/git/OutSmarted/tic-tac-toe-algorithm/tic-tac-toe.ipynb#ch0000001?line=3'>4</a>\u001b[0m     playerinput()\n\u001b[1;32m      <a href='vscode-notebook-cell:/home/macbook-ubuntu/git/OutSmarted/tic-tac-toe-algorithm/tic-tac-toe.ipynb#ch0000001?line=4'>5</a>\u001b[0m     \u001b[39m# field = np.array(eval((input(\"Enter the entire field:\"))), dtype=np.int8)\u001b[39;00m\n\u001b[1;32m      <a href='vscode-notebook-cell:/home/macbook-ubuntu/git/OutSmarted/tic-tac-toe-algorithm/tic-tac-toe.ipynb#ch0000001?line=5'>6</a>\u001b[0m     bestmove()\n",
      "\u001b[1;32m/home/macbook-ubuntu/git/OutSmarted/tic-tac-toe-algorithm/tic-tac-toe.ipynb Cell 5'\u001b[0m in \u001b[0;36mplayerinput\u001b[0;34m()\u001b[0m\n\u001b[1;32m      <a href='vscode-notebook-cell:/home/macbook-ubuntu/git/OutSmarted/tic-tac-toe-algorithm/tic-tac-toe.ipynb#ch0000006?line=0'>1</a>\u001b[0m \u001b[39mdef\u001b[39;00m \u001b[39mplayerinput\u001b[39m():\n\u001b[1;32m      <a href='vscode-notebook-cell:/home/macbook-ubuntu/git/OutSmarted/tic-tac-toe-algorithm/tic-tac-toe.ipynb#ch0000006?line=1'>2</a>\u001b[0m     \u001b[39mwhile\u001b[39;00m \u001b[39mTrue\u001b[39;00m:\n\u001b[0;32m----> <a href='vscode-notebook-cell:/home/macbook-ubuntu/git/OutSmarted/tic-tac-toe-algorithm/tic-tac-toe.ipynb#ch0000006?line=2'>3</a>\u001b[0m         x \u001b[39m=\u001b[39m \u001b[39mint\u001b[39;49m(\u001b[39minput\u001b[39;49m(\u001b[39m\"\u001b[39;49m\u001b[39mEnter the row: \u001b[39;49m\u001b[39m\"\u001b[39;49m))\n\u001b[1;32m      <a href='vscode-notebook-cell:/home/macbook-ubuntu/git/OutSmarted/tic-tac-toe-algorithm/tic-tac-toe.ipynb#ch0000006?line=3'>4</a>\u001b[0m         y \u001b[39m=\u001b[39m \u001b[39mint\u001b[39m(\u001b[39minput\u001b[39m(\u001b[39m\"\u001b[39m\u001b[39mEnter the column: \u001b[39m\u001b[39m\"\u001b[39m))\n\u001b[1;32m      <a href='vscode-notebook-cell:/home/macbook-ubuntu/git/OutSmarted/tic-tac-toe-algorithm/tic-tac-toe.ipynb#ch0000006?line=4'>5</a>\u001b[0m         \u001b[39mif\u001b[39;00m field[x][y] \u001b[39m==\u001b[39m \u001b[39m0\u001b[39m:\n",
      "\u001b[0;31mValueError\u001b[0m: invalid literal for int() with base 10: ''"
     ]
    }
   ],
   "source": [
    "field = np.array([[0,0,0],[0,0,0],[0,0,0]], dtype=np.int8)\n",
    "while (checkForWin() == False):\n",
    "    printfield()\n",
    "    playerinput()\n",
    "    # field = np.array(eval((input(\"Enter the entire field:\"))), dtype=np.int8)\n",
    "    bestmove()\n",
    "    print(field.tolist())\n",
    "if (checkForWin() == True):\n",
    "    printfield()\n",
    "    print(\"You win!\")\n"
   ]
  }
 ],
 "metadata": {
  "interpreter": {
   "hash": "916dbcbb3f70747c44a77c7bcd40155683ae19c65e1c03b4aa3499c5328201f1"
  },
  "kernelspec": {
   "display_name": "Python 3.8.10 64-bit",
   "language": "python",
   "name": "python3"
  },
  "language_info": {
   "codemirror_mode": {
    "name": "ipython",
    "version": 3
   },
   "file_extension": ".py",
   "mimetype": "text/x-python",
   "name": "python",
   "nbconvert_exporter": "python",
   "pygments_lexer": "ipython3",
   "version": "3.8.10"
  },
  "orig_nbformat": 4
 },
 "nbformat": 4,
 "nbformat_minor": 2
}
