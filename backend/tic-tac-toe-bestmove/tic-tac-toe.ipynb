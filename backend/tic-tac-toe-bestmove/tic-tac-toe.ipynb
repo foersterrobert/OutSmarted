{
 "cells": [
  {
   "cell_type": "code",
   "execution_count": 2,
   "metadata": {},
   "outputs": [
    {
     "name": "stdout",
     "output_type": "stream",
     "text": [
      "0 0 0 \n",
      "0 0 0 \n",
      "0 0 0 \n"
     ]
    }
   ],
   "source": [
    "import numpy as np\n",
    "import math\n",
    "import time\n",
    "\n",
    "global field\n",
    "field = np.array([[0,0,0],[0,0,0],[0,0,0]], dtype=np.int8)\n",
    "def printfield():\n",
    "    for i in range(3):\n",
    "        for j in range(3):\n",
    "            print(field[i,j], end=\" \")\n",
    "        print()\n",
    "printfield()"
   ]
  },
  {
   "cell_type": "code",
   "execution_count": 3,
   "metadata": {},
   "outputs": [],
   "source": [
    "def checkForWin():\n",
    "\n",
    "    if (max(field.sum(axis=1)) == 3 or max(field.sum(axis=0)) == 3):\n",
    "        return 10\n",
    "    elif (min(field.sum(axis=1)) == -3 or min(field.sum(axis=0)) == -3):\n",
    "        return -10\n",
    "    elif (np.trace(field) == 3):\n",
    "        return 10\n",
    "    elif (np.trace(field) == -3):\n",
    "        return -10\n",
    "    elif (np.trace(np.fliplr(field)) == 3):\n",
    "        return 10\n",
    "    elif (np.trace(np.fliplr(field)) == -3):\n",
    "        return -10\n",
    "    elif np.count_nonzero(field) == 9:\n",
    "        return 1000\n",
    "    \n",
    "    return False\n"
   ]
  },
  {
   "cell_type": "code",
   "execution_count": 4,
   "metadata": {},
   "outputs": [],
   "source": [
    "def minimax(field, isMaximizing, alpha, beta):\n",
    "    if checkForWin() == 10:\n",
    "        return {\n",
    "            'move': None,\n",
    "            'score': - 1 * ((9 - np.count_nonzero(field)) + 1)\n",
    "        }\n",
    "    elif checkForWin() == -10:\n",
    "        return {\n",
    "            'move': None,\n",
    "            'score': 1 * ((9 - np.count_nonzero(field)) + 1)\n",
    "        }\n",
    "    elif checkForWin() == 1000:\n",
    "        return {\n",
    "            'move': None,\n",
    "            'score': 0\n",
    "        }\n",
    "    \n",
    "    if isMaximizing:\n",
    "        best = {'move': None, 'score': -math.inf}\n",
    "    elif not isMaximizing:\n",
    "        best = {'move': None, 'score': math.inf}\n",
    "\n",
    "    for i in range(3):\n",
    "        for j in range(3):\n",
    "            if isMaximizing:\n",
    "                if field[i][j] == 0:\n",
    "                    field[i][j] = -1\n",
    "                    sim_score = minimax(field, False, alpha, beta)\n",
    "                    field[i][j] = 0\n",
    "\n",
    "                    sim_score['move'] = (i, j)\n",
    "                    best = max(best, sim_score, key=lambda x: x['score'])\n",
    "                    alpha = max(alpha, best['score'])\n",
    "                    if beta <= alpha:\n",
    "                        break\n",
    "                    \n",
    "\n",
    "            elif not isMaximizing:\n",
    "                if field[i][j] == 0:\n",
    "                    field[i][j] = 1\n",
    "                    sim_score = minimax(field, True, alpha, beta)\n",
    "                    field[i][j] = 0\n",
    "\n",
    "                    sim_score['move'] = (i, j)\n",
    "                    best = min(best, sim_score, key=lambda x: x['score'])\n",
    "                    beta = min(beta, best['score'])\n",
    "                    if beta <= alpha:\n",
    "                        break\n",
    "    return best"
   ]
  },
  {
   "cell_type": "code",
   "execution_count": 5,
   "metadata": {},
   "outputs": [],
   "source": [
    "def bestmove():\n",
    "    if np.count_nonzero(field) == 0:\n",
    "        move = (0,0)\n",
    "    else:\n",
    "        start = time.time()\n",
    "        move = minimax(field, True, -math.inf, math.inf)['move']\n",
    "        print(time.time()-start,\"seconds\")\n",
    "    field[move[0]][move[1]] = -1"
   ]
  },
  {
   "cell_type": "code",
   "execution_count": 6,
   "metadata": {},
   "outputs": [],
   "source": [
    "def playerinput():\n",
    "    while True:\n",
    "        x = int(input(\"Enter the row: \"))\n",
    "        y = int(input(\"Enter the column: \"))\n",
    "        if field[x][y] == 0:\n",
    "            field[x][y] = 1\n",
    "            break\n",
    "        else:\n",
    "            print(\"Invalid move\")\n",
    "            printfield()\n",
    "            playerinput()"
   ]
  },
  {
   "cell_type": "code",
   "execution_count": 13,
   "metadata": {},
   "outputs": [
    {
     "name": "stdout",
     "output_type": "stream",
     "text": [
      "0 0 0 \n",
      "0 0 0 \n",
      "0 0 0 \n",
      "------\n",
      "1 0 0 \n",
      "0 0 0 \n",
      "0 0 0 \n",
      "------\n",
      "2.196242332458496 seconds\n",
      "1 0 0 \n",
      "0 -1 0 \n",
      "0 0 0 \n",
      "------\n",
      "1 0 0 \n",
      "0 -1 0 \n",
      "0 0 1 \n",
      "------\n",
      "0.15284037590026855 seconds\n",
      "1 -1 0 \n",
      "0 -1 0 \n",
      "0 0 1 \n",
      "------\n",
      "1 -1 1 \n",
      "0 -1 0 \n",
      "0 0 1 \n",
      "------\n",
      "0.008643150329589844 seconds\n",
      "1 -1 1 \n",
      "0 -1 0 \n",
      "0 -1 1 \n",
      "You Lost!\n"
     ]
    }
   ],
   "source": [
    "field = np.array([[0,0,0],[0,0,0],[0,0,0]], dtype=np.int8)\n",
    "while (checkForWin() == False):\n",
    "    time.sleep(1)\n",
    "    printfield()\n",
    "    print(\"------\")\n",
    "    playerinput()\n",
    "    time.sleep(1)\n",
    "    printfield()\n",
    "    time.sleep(1)\n",
    "    if checkForWin() == False:\n",
    "        print(\"------\")\n",
    "        # field = np.array(eval((input(\"Enter the entire field:\"))), dtype=np.int8)\n",
    "        bestmove()\n",
    "        # print(field.tolist())\n",
    "    else:\n",
    "        printfield()\n",
    "        print(\"------\")\n",
    "        print(\"The winner is: \", checkForWin())\n",
    "if (checkForWin() == 10):\n",
    "    printfield()\n",
    "    print(\"You win!\")\n",
    "elif (checkForWin() == -10):\n",
    "    printfield()\n",
    "    print(\"You Lost!\")\n",
    "elif (checkForWin() == 1000):\n",
    "    printfield()\n",
    "    print(\"Draw!\")\n",
    "else:\n",
    "    print(\"Something went wrong\")\n",
    "\n"
   ]
  }
 ],
 "metadata": {
  "interpreter": {
   "hash": "916dbcbb3f70747c44a77c7bcd40155683ae19c65e1c03b4aa3499c5328201f1"
  },
  "kernelspec": {
   "display_name": "Python 3.8.10 64-bit",
   "language": "python",
   "name": "python3"
  },
  "language_info": {
   "codemirror_mode": {
    "name": "ipython",
    "version": 3
   },
   "file_extension": ".py",
   "mimetype": "text/x-python",
   "name": "python",
   "nbconvert_exporter": "python",
   "pygments_lexer": "ipython3",
   "version": "3.8.10"
  },
  "orig_nbformat": 4
 },
 "nbformat": 4,
 "nbformat_minor": 2
}
