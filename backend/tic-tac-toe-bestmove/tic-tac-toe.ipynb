{
 "cells": [
  {
   "cell_type": "code",
   "execution_count": 24,
   "metadata": {},
   "outputs": [
    {
     "name": "stdout",
     "output_type": "stream",
     "text": [
      "0 0 0 \n",
      "0 0 0 \n",
      "0 0 0 \n"
     ]
    }
   ],
   "source": [
    "import numpy as np\n",
    "import math\n",
    "import time\n",
    "\n",
    "global field\n",
    "field = np.array([[0,0,0],[0,0,0],[0,0,0]], dtype=np.int8)\n",
    "def printfield():\n",
    "    for i in range(3):\n",
    "        for j in range(3):\n",
    "            print(field[i,j], end=\" \")\n",
    "        print()\n",
    "printfield()"
   ]
  },
  {
   "cell_type": "code",
   "execution_count": 2,
   "metadata": {},
   "outputs": [],
   "source": [
    "def checkForWin():\n",
    "\n",
    "    if (max(field.sum(axis=1)) == 3 or max(field.sum(axis=0)) == 3):\n",
    "        return 10\n",
    "    elif (min(field.sum(axis=1)) == -3 or min(field.sum(axis=0)) == -3):\n",
    "        return -10\n",
    "    elif (np.trace(field) == 3):\n",
    "        return 10\n",
    "    elif (np.trace(field) == -3):\n",
    "        return -10\n",
    "    elif (np.trace(np.fliplr(field)) == 3):\n",
    "        return 10\n",
    "    elif (np.trace(np.fliplr(field)) == -3):\n",
    "        return -10\n",
    "    elif np.count_nonzero(field) == 9:\n",
    "        return 1000\n",
    "    \n",
    "    return False\n"
   ]
  },
  {
   "cell_type": "code",
   "execution_count": 21,
   "metadata": {},
   "outputs": [],
   "source": [
    "def minimax(field, isMaximizing, alpha, beta):\n",
    "    if checkForWin() == 10:\n",
    "        return {\n",
    "            'move': None,\n",
    "            'score': - 1 * ((9 - np.count_nonzero(field)) + 1)\n",
    "        }\n",
    "    elif checkForWin() == -10:\n",
    "        return {\n",
    "            'move': None,\n",
    "            'score': 1 * ((9 - np.count_nonzero(field)) + 1)\n",
    "        }\n",
    "    elif checkForWin() == 1000:\n",
    "        return {\n",
    "            'move': None,\n",
    "            'score': 0\n",
    "        }\n",
    "    \n",
    "    if isMaximizing:\n",
    "        best = {'move': None, 'score': -math.inf}\n",
    "    elif not isMaximizing:\n",
    "        best = {'move': None, 'score': math.inf}\n",
    "\n",
    "    for i in range(3):\n",
    "        for j in range(3):\n",
    "            if isMaximizing:\n",
    "                if field[i][j] == 0:\n",
    "                    field[i][j] = -1\n",
    "                    sim_score = minimax(field, False, alpha, beta)\n",
    "                    field[i][j] = 0\n",
    "\n",
    "                    sim_score['move'] = (i, j)\n",
    "                    best = max(best, sim_score, key=lambda x: x['score'])\n",
    "                    alpha = max(alpha, best['score'])\n",
    "                    if beta <= alpha:\n",
    "                        break\n",
    "                    \n",
    "\n",
    "            elif not isMaximizing:\n",
    "                if field[i][j] == 0:\n",
    "                    field[i][j] = 1\n",
    "                    sim_score = minimax(field, True, alpha, beta)\n",
    "                    field[i][j] = 0\n",
    "\n",
    "                    sim_score['move'] = (i, j)\n",
    "                    best = min(best, sim_score, key=lambda x: x['score'])\n",
    "                    beta = min(beta, best['score'])\n",
    "                    if beta <= alpha:\n",
    "                        break\n",
    "    return best"
   ]
  },
  {
   "cell_type": "code",
   "execution_count": 37,
   "metadata": {},
   "outputs": [],
   "source": [
    "def bestmove():\n",
    "    if np.count_nonzero(field) == 0:\n",
    "        move = (0,0)\n",
    "    else:\n",
    "        start = time.time()\n",
    "        move = minimax(field, True, -math.inf, math.inf)['move']\n",
    "        print(time.time()-start,\"seconds\")\n",
    "    field[move[0]][move[1]] = -1"
   ]
  },
  {
   "cell_type": "code",
   "execution_count": 6,
   "metadata": {},
   "outputs": [],
   "source": [
    "def playerinput():\n",
    "    while True:\n",
    "        x = int(input(\"Enter the row: \"))\n",
    "        y = int(input(\"Enter the column: \"))\n",
    "        if field[x][y] == 0:\n",
    "            field[x][y] = 1\n",
    "            break\n",
    "        else:\n",
    "            print(\"Invalid move\")\n",
    "            printfield()\n",
    "            playerinput()"
   ]
  },
  {
   "cell_type": "code",
   "execution_count": 38,
   "metadata": {},
   "outputs": [
    {
     "name": "stdout",
     "output_type": "stream",
     "text": [
      "0 0 0 \n",
      "0 0 0 \n",
      "0 0 0 \n",
      "------\n",
      "1 0 0 \n",
      "0 0 0 \n",
      "0 0 0 \n",
      "------\n",
      "2.1466805934906006 seconds\n",
      "1 0 0 \n",
      "0 -1 0 \n",
      "0 0 0 \n",
      "------\n",
      "1 0 0 \n",
      "0 -1 0 \n",
      "0 0 1 \n",
      "------\n",
      "0.1847217082977295 seconds\n",
      "1 -1 0 \n",
      "0 -1 0 \n",
      "0 0 1 \n",
      "------\n",
      "Invalid move\n",
      "1 -1 0 \n",
      "0 -1 0 \n",
      "0 0 1 \n"
     ]
    },
    {
     "ename": "ValueError",
     "evalue": "invalid literal for int() with base 10: ''",
     "output_type": "error",
     "traceback": [
      "\u001b[0;31m---------------------------------------------------------------------------\u001b[0m",
      "\u001b[0;31mValueError\u001b[0m                                Traceback (most recent call last)",
      "\u001b[1;32m/home/macbook-ubuntu/git/OutSmarted/backend/tic-tac-toe-bestmove/tic-tac-toe.ipynb Cell 6'\u001b[0m in \u001b[0;36m<module>\u001b[0;34m\u001b[0m\n\u001b[1;32m      <a href='vscode-notebook-cell:/home/macbook-ubuntu/git/OutSmarted/backend/tic-tac-toe-bestmove/tic-tac-toe.ipynb#ch0000005?line=2'>3</a>\u001b[0m printfield()\n\u001b[1;32m      <a href='vscode-notebook-cell:/home/macbook-ubuntu/git/OutSmarted/backend/tic-tac-toe-bestmove/tic-tac-toe.ipynb#ch0000005?line=3'>4</a>\u001b[0m \u001b[39mprint\u001b[39m(\u001b[39m\"\u001b[39m\u001b[39m------\u001b[39m\u001b[39m\"\u001b[39m)\n\u001b[0;32m----> <a href='vscode-notebook-cell:/home/macbook-ubuntu/git/OutSmarted/backend/tic-tac-toe-bestmove/tic-tac-toe.ipynb#ch0000005?line=4'>5</a>\u001b[0m playerinput()\n\u001b[1;32m      <a href='vscode-notebook-cell:/home/macbook-ubuntu/git/OutSmarted/backend/tic-tac-toe-bestmove/tic-tac-toe.ipynb#ch0000005?line=5'>6</a>\u001b[0m printfield()\n\u001b[1;32m      <a href='vscode-notebook-cell:/home/macbook-ubuntu/git/OutSmarted/backend/tic-tac-toe-bestmove/tic-tac-toe.ipynb#ch0000005?line=6'>7</a>\u001b[0m \u001b[39mif\u001b[39;00m checkForWin() \u001b[39m==\u001b[39m \u001b[39mFalse\u001b[39;00m:\n",
      "\u001b[1;32m/home/macbook-ubuntu/git/OutSmarted/backend/tic-tac-toe-bestmove/tic-tac-toe.ipynb Cell 5'\u001b[0m in \u001b[0;36mplayerinput\u001b[0;34m()\u001b[0m\n\u001b[1;32m      <a href='vscode-notebook-cell:/home/macbook-ubuntu/git/OutSmarted/backend/tic-tac-toe-bestmove/tic-tac-toe.ipynb#ch0000004?line=8'>9</a>\u001b[0m \u001b[39mprint\u001b[39m(\u001b[39m\"\u001b[39m\u001b[39mInvalid move\u001b[39m\u001b[39m\"\u001b[39m)\n\u001b[1;32m     <a href='vscode-notebook-cell:/home/macbook-ubuntu/git/OutSmarted/backend/tic-tac-toe-bestmove/tic-tac-toe.ipynb#ch0000004?line=9'>10</a>\u001b[0m printfield()\n\u001b[0;32m---> <a href='vscode-notebook-cell:/home/macbook-ubuntu/git/OutSmarted/backend/tic-tac-toe-bestmove/tic-tac-toe.ipynb#ch0000004?line=10'>11</a>\u001b[0m playerinput()\n",
      "\u001b[1;32m/home/macbook-ubuntu/git/OutSmarted/backend/tic-tac-toe-bestmove/tic-tac-toe.ipynb Cell 5'\u001b[0m in \u001b[0;36mplayerinput\u001b[0;34m()\u001b[0m\n\u001b[1;32m      <a href='vscode-notebook-cell:/home/macbook-ubuntu/git/OutSmarted/backend/tic-tac-toe-bestmove/tic-tac-toe.ipynb#ch0000004?line=1'>2</a>\u001b[0m \u001b[39mwhile\u001b[39;00m \u001b[39mTrue\u001b[39;00m:\n\u001b[1;32m      <a href='vscode-notebook-cell:/home/macbook-ubuntu/git/OutSmarted/backend/tic-tac-toe-bestmove/tic-tac-toe.ipynb#ch0000004?line=2'>3</a>\u001b[0m     x \u001b[39m=\u001b[39m \u001b[39mint\u001b[39m(\u001b[39minput\u001b[39m(\u001b[39m\"\u001b[39m\u001b[39mEnter the row: \u001b[39m\u001b[39m\"\u001b[39m))\n\u001b[0;32m----> <a href='vscode-notebook-cell:/home/macbook-ubuntu/git/OutSmarted/backend/tic-tac-toe-bestmove/tic-tac-toe.ipynb#ch0000004?line=3'>4</a>\u001b[0m     y \u001b[39m=\u001b[39m \u001b[39mint\u001b[39;49m(\u001b[39minput\u001b[39;49m(\u001b[39m\"\u001b[39;49m\u001b[39mEnter the column: \u001b[39;49m\u001b[39m\"\u001b[39;49m))\n\u001b[1;32m      <a href='vscode-notebook-cell:/home/macbook-ubuntu/git/OutSmarted/backend/tic-tac-toe-bestmove/tic-tac-toe.ipynb#ch0000004?line=4'>5</a>\u001b[0m     \u001b[39mif\u001b[39;00m field[x][y] \u001b[39m==\u001b[39m \u001b[39m0\u001b[39m:\n\u001b[1;32m      <a href='vscode-notebook-cell:/home/macbook-ubuntu/git/OutSmarted/backend/tic-tac-toe-bestmove/tic-tac-toe.ipynb#ch0000004?line=5'>6</a>\u001b[0m         field[x][y] \u001b[39m=\u001b[39m \u001b[39m1\u001b[39m\n",
      "\u001b[0;31mValueError\u001b[0m: invalid literal for int() with base 10: ''"
     ]
    }
   ],
   "source": [
    "field = np.array([[0,0,0],[0,0,0],[0,0,0]], dtype=np.int8)\n",
    "while (checkForWin() == False):\n",
    "    printfield()\n",
    "    print(\"------\")\n",
    "    playerinput()\n",
    "    printfield()\n",
    "    if checkForWin() == False:\n",
    "        print(\"------\")\n",
    "        # field = np.array(eval((input(\"Enter the entire field:\"))), dtype=np.int8)\n",
    "        bestmove()\n",
    "        # print(field.tolist())\n",
    "    else:\n",
    "        printfield()\n",
    "        print(\"------\")\n",
    "        print(\"The winner is: \", checkForWin())\n",
    "if (checkForWin() == 10):\n",
    "    printfield()\n",
    "    print(\"You win!\")\n",
    "elif (checkForWin() == -10):\n",
    "    printfield()\n",
    "    print(\"You Lost!\")\n",
    "elif (checkForWin() == 1000):\n",
    "    printfield()\n",
    "    print(\"Draw!\")\n",
    "else:\n",
    "    print(\"Something went wrong\")\n",
    "\n"
   ]
  }
 ],
 "metadata": {
  "interpreter": {
   "hash": "916dbcbb3f70747c44a77c7bcd40155683ae19c65e1c03b4aa3499c5328201f1"
  },
  "kernelspec": {
   "display_name": "Python 3.8.10 64-bit",
   "language": "python",
   "name": "python3"
  },
  "language_info": {
   "codemirror_mode": {
    "name": "ipython",
    "version": 3
   },
   "file_extension": ".py",
   "mimetype": "text/x-python",
   "name": "python",
   "nbconvert_exporter": "python",
   "pygments_lexer": "ipython3",
   "version": "3.8.10"
  },
  "orig_nbformat": 4
 },
 "nbformat": 4,
 "nbformat_minor": 2
}
