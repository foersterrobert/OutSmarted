{
  "cells": [
    {
      "cell_type": "code",
      "execution_count": null,
      "metadata": {
        "colab": {
          "base_uri": "https://localhost:8080/"
        },
        "id": "qCS38MnulbcK",
        "outputId": "0aa4efc8-d5ac-463b-e48d-342b5311fd61"
      },
      "outputs": [],
      "source": [
        "from google.colab import drive\n",
        "drive.mount('/content/drive')"
      ]
    },
    {
      "cell_type": "code",
      "execution_count": null,
      "metadata": {
        "colab": {
          "base_uri": "https://localhost:8080/"
        },
        "id": "5VoNMxZk4w9n",
        "outputId": "e52a84ed-cf88-4c79-dca7-2d0184c42e55"
      },
      "outputs": [],
      "source": [
        "# !pip install --upgrade albumentations\n",
        "# !pip install opencv-python-headless==4.1.2.30\n",
        "# !pip install wandb\n",
        "# !wandb login"
      ]
    },
    {
      "cell_type": "code",
      "execution_count": null,
      "metadata": {
        "id": "8hX2kAuSla5h"
      },
      "outputs": [],
      "source": [
        "import torch\n",
        "import torch.nn as nn\n",
        "import torch.nn.functional as F\n",
        "from torch.utils.data import Dataset, DataLoader\n",
        "from torchvision.transforms.functional import to_tensor\n",
        "from torch.optim import AdamW\n",
        "import os\n",
        "import albumentations as A\n",
        "import numpy as np\n",
        "from PIL import Image\n",
        "import wandb"
      ]
    },
    {
      "cell_type": "code",
      "execution_count": null,
      "metadata": {
        "colab": {
          "base_uri": "https://localhost:8080/"
        },
        "id": "61rMsGcjla5m",
        "outputId": "36e76c6c-de77-414e-8942-573c014b581d"
      },
      "outputs": [],
      "source": [
        "BATCH_SIZE = 32\n",
        "EPOCHS = 300\n",
        "device = torch.device('cuda' if torch.cuda.is_available() else 'cpu')\n",
        "print(device)"
      ]
    },
    {
      "cell_type": "code",
      "execution_count": null,
      "metadata": {
        "id": "xBI59mlIla5p"
      },
      "outputs": [],
      "source": [
        "class classificationDataset(Dataset):\n",
        "    def __init__(self, img_dirs, transforms=None):\n",
        "        self.img_dirs = img_dirs\n",
        "        self.img_dirs_list = [\n",
        "            [imgFile for imgFile in os.listdir(files) if imgFile.endswith('jpg')] for files in self.img_dirs\n",
        "        ]\n",
        "        self.transforms = transforms\n",
        "        self.lens = [len(img_dir_list) for img_dir_list in self.img_dirs_list]\n",
        "\n",
        "    def __len__(self):\n",
        "        return sum(self.lens)\n",
        "\n",
        "    def __getitem__(self, idx):\n",
        "        if idx < self.lens[0]:\n",
        "            image = Image.open(os.path.join(self.img_dirs[0], self.img_dirs_list[0][idx]))\n",
        "            image = image.convert('L')\n",
        "            image = np.array(image)\n",
        "            if self.transforms:\n",
        "                image = self.transforms[0](image=image)['image']\n",
        "            image = to_tensor(image)\n",
        "            return image, 0\n",
        "        else:\n",
        "            image = Image.open(os.path.join(self.img_dirs[1], self.img_dirs_list[1][idx - self.lens[0]]))\n",
        "            image = image.convert('L')\n",
        "            image = np.array(image)\n",
        "            if self.transforms:\n",
        "                image = self.transforms[1](image=image)['image']\n",
        "            image = to_tensor(image)\n",
        "            return image, 1"
      ]
    },
    {
      "cell_type": "code",
      "execution_count": null,
      "metadata": {
        "id": "C1bb2Drlla5q"
      },
      "outputs": [],
      "source": [
        "class Model(nn.Module):\n",
        "    def __init__(self):\n",
        "        super().__init__()\n",
        "        self.seq = nn.Sequential(\n",
        "            self._block(1, 32, 3),\n",
        "            self._block(32, 48, 3, 2),\n",
        "            self._block(48, 64, 3),\n",
        "            self._block(64, 80, 3),\n",
        "            self._block(80, 96, 3, 2),\n",
        "            self._block(96, 112, 3),\n",
        "            self._block(112, 128, 3),\n",
        "            self._block(128, 144, 3, 2),\n",
        "            self._block(144, 154, 3),\n",
        "            self._block(154, 116, 3),\n",
        "            Flatten(),\n",
        "            nn.Linear(16704, 2, bias=False),\n",
        "            nn.BatchNorm1d(2), \n",
        "        ) \n",
        "\n",
        "    def _block(self, input_dim, output_dim, kernel_size, stride=1):\n",
        "        return nn.Sequential(\n",
        "            nn.Conv2d(input_dim, output_dim, kernel_size, stride, bias=False),\n",
        "            nn.BatchNorm2d(output_dim),\n",
        "            nn.ReLU()\n",
        "        )\n",
        "\n",
        "    def forward(self, x):\n",
        "        x = self.seq(x)\n",
        "        return F.log_softmax(x, dim=1)\n",
        "\n",
        "class Flatten(nn.Module):\n",
        "    def forward(self, x):\n",
        "        return torch.flatten(x.permute(0, 2, 3, 1), 1)"
      ]
    },
    {
      "cell_type": "code",
      "execution_count": null,
      "metadata": {
        "colab": {
          "base_uri": "https://localhost:8080/"
        },
        "id": "4yj3vU1dla5s",
        "outputId": "fb604fe7-9ee3-4899-b377-8822cb072260"
      },
      "outputs": [],
      "source": [
        "model = Model().to(device)\n",
        "optimizer = AdamW(model.parameters())\n",
        "\n",
        "tictactoeTransform = A.Compose([\n",
        "    A.augmentations.geometric.transforms.Perspective(p=1, scale=(0.005, 0.02)),\n",
        "    A.augmentations.transforms.OpticalDistortion(p=0.2),\n",
        "    A.augmentations.geometric.transforms.ElasticTransform(p=1, alpha=1, sigma=4, alpha_affine=4),\n",
        "    A.RandomCrop(160, 160, p=0.25),\n",
        "    A.InvertImg(p=0.1),\n",
        "    A.ColorJitter(brightness=0.55, contrast=0.6, saturation=0.6, hue=0.6, p=0.4),\n",
        "    A.GaussNoise(p=0.12),\n",
        "    A.Blur(blur_limit=3, p=0.22),\n",
        "    A.GlassBlur(max_delta=1, iterations=1, p=0.14),\n",
        "    A.CLAHE(p=0.22, tile_grid_size=(4, 4)),\n",
        "    A.Sharpen(p=0.18, alpha=0.2, lightness=1.5),\n",
        "    A.Emboss(p=0.18),\n",
        "    A.Equalize(p=0.04),\n",
        "    A.MultiplicativeNoise(p=0.22),\n",
        "    A.Resize(168, 168, p=1.0, interpolation=Image.NEAREST),\n",
        "    A.RandomBrightness(p=0.22),\n",
        "    A.RandomContrast(p=0.22),\n",
        "    A.RandomGamma(p=0.22),\n",
        "    A.Solarize(threshold=128, p=0.2),\n",
        "])\n",
        "\n",
        "connectfourTransform = A.Compose([\n",
        "    A.augmentations.geometric.transforms.Perspective(p=1, scale=(0.005, 0.02)),\n",
        "    A.augmentations.transforms.OpticalDistortion(p=0.2),\n",
        "    A.augmentations.transforms.OpticalDistortion(p=0.2),\n",
        "    A.augmentations.geometric.transforms.ElasticTransform(p=0.2, alpha=1, sigma=0.5, alpha_affine=0.5),\n",
        "    A.RandomCrop(154, 154, p=0.25),\n",
        "    A.HorizontalFlip(p=0.5),\n",
        "    A.ColorJitter(brightness=0.55, contrast=0.6, saturation=0.6, hue=0.6, p=0.4),\n",
        "    A.GaussNoise(p=0.12),\n",
        "    A.Blur(blur_limit=3, p=0.22),\n",
        "    A.GlassBlur(max_delta=1, iterations=1, p=0.14),\n",
        "    A.CLAHE(p=0.22, tile_grid_size=(4, 4)),\n",
        "    A.Sharpen(p=0.18, alpha=0.2, lightness=1.5),\n",
        "    A.Emboss(p=0.18),\n",
        "    A.Equalize(p=0.04),\n",
        "    A.MultiplicativeNoise(p=0.22),\n",
        "    A.Resize(168, 168, p=1.0, interpolation=Image.NEAREST),\n",
        "    A.RandomBrightness(p=0.22),\n",
        "    A.RandomContrast(p=0.22),\n",
        "    A.RandomGamma(p=0.22),\n",
        "    A.Solarize(threshold=128, p=0.2),\n",
        "])\n",
        "\n",
        "transforms = [tictactoeTransform, connectfourTransform]\n",
        "\n",
        "dataset = classificationDataset(['drive/MyDrive/boardsTTT', 'drive/MyDrive/boardsC4'], transforms=transforms)\n",
        "\n",
        "class_weights = [1/1064, 1/1606]\n",
        "sample_weights = [0] * len(dataset)\n",
        "\n",
        "for idx, (data, label) in enumerate(dataset):\n",
        "    class_weight = class_weights[label]\n",
        "    sample_weights[idx] = class_weight\n",
        "\n",
        "sampler = torch.utils.data.sampler.WeightedRandomSampler(sample_weights, num_samples=len(sample_weights))\n",
        "\n",
        "dataloader = DataLoader(dataset, batch_size=BATCH_SIZE, sampler=sampler)"
      ]
    },
    {
      "cell_type": "code",
      "execution_count": null,
      "metadata": {
        "id": "jiib6jvhla5t"
      },
      "outputs": [],
      "source": [
        "def main():\n",
        "    wandb.init(project=\"boardGameClassification\", entity=\"robertfoerster\")\n",
        "    for epoch in range(EPOCHS):\n",
        "        for idx, (value, label) in enumerate(dataloader):\n",
        "            value, label = value.to(device), label.to(device)\n",
        "            output = model(value)\n",
        "            loss = F.nll_loss(output, label)\n",
        "            optimizer.zero_grad()\n",
        "            loss.backward()\n",
        "            optimizer.step()\n",
        "\n",
        "            metrics = {\n",
        "                'train/train_loss': loss,\n",
        "                'train/epoch': epoch,\n",
        "            }\n",
        "            wandb.log(metrics)\n",
        "    wandb.finish()"
      ]
    },
    {
      "cell_type": "code",
      "execution_count": null,
      "metadata": {
        "colab": {
          "base_uri": "https://localhost:8080/",
          "height": 380
        },
        "id": "Ah0y2auPla5u",
        "outputId": "9c718472-2359-4c66-a15f-9879844b3463"
      },
      "outputs": [],
      "source": [
        "main()"
      ]
    },
    {
      "cell_type": "code",
      "execution_count": null,
      "metadata": {
        "id": "S005ERxsmW4v"
      },
      "outputs": [],
      "source": [
        "torch.save(model.state_dict(), 'drive/MyDrive/classificaton.pth')\n",
        "torch.save(optimizer.state_dict(), 'drive/MyDrive/clfOptim.pth')"
      ]
    }
  ],
  "metadata": {
    "accelerator": "GPU",
    "colab": {
      "name": "classification.ipynb",
      "provenance": []
    },
    "interpreter": {
      "hash": "2177f1ca12c1330a133c1d40b46100b268ab447cddcbdfdc0c7b2b7e4840e700"
    },
    "kernelspec": {
      "display_name": "Python 3.8.12 ('myenv')",
      "language": "python",
      "name": "python3"
    },
    "language_info": {
      "codemirror_mode": {
        "name": "ipython",
        "version": 3
      },
      "file_extension": ".py",
      "mimetype": "text/x-python",
      "name": "python",
      "nbconvert_exporter": "python",
      "pygments_lexer": "ipython3",
      "version": "3.8.12"
    },
    "orig_nbformat": 4
  },
  "nbformat": 4,
  "nbformat_minor": 0
}
