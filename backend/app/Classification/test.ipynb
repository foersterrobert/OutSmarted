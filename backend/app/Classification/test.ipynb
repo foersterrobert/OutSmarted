{
 "cells": [
  {
   "cell_type": "code",
   "execution_count": null,
   "metadata": {},
   "outputs": [],
   "source": [
    "import torch.nn as nn\n",
    "import torch.nn.functional as F\n",
    "from torchvision.transforms.functional import to_tensor\n",
    "import numpy as np\n",
    "from PIL import Image\n",
    "import matplotlib.pyplot as plt\n",
    "import albumentations as A\n",
    "import torch\n",
    "from classification import Model "
   ]
  },
  {
   "cell_type": "code",
   "execution_count": null,
   "metadata": {},
   "outputs": [],
   "source": [
    "tictactoeTransform = A.Compose([\n",
    "    A.augmentations.geometric.transforms.Perspective(p=1, scale=(0.005, 0.02)),\n",
    "    A.augmentations.transforms.OpticalDistortion(p=0.2),\n",
    "    A.augmentations.geometric.transforms.ElasticTransform(p=1, alpha=1, sigma=4, alpha_affine=4),\n",
    "    A.RandomCrop(160, 160, p=0.25),\n",
    "    A.InvertImg(p=0.1),\n",
    "    A.ColorJitter(brightness=0.55, contrast=0.6, saturation=0.6, hue=0.6, p=0.4),\n",
    "    A.GaussNoise(p=0.12),\n",
    "    A.Blur(blur_limit=3, p=0.22),\n",
    "    A.GlassBlur(max_delta=1, iterations=1, p=0.14),\n",
    "    A.CLAHE(p=0.22, tile_grid_size=(4, 4)),\n",
    "    A.Sharpen(p=0.18, alpha=0.2, lightness=1.5),\n",
    "    A.Emboss(p=0.18),\n",
    "    A.Equalize(p=0.04),\n",
    "    A.MultiplicativeNoise(p=0.22),\n",
    "    A.Resize(168, 168, p=1.0, interpolation=Image.NEAREST),\n",
    "    A.RandomBrightness(p=0.22),\n",
    "    A.RandomContrast(p=0.22),\n",
    "    A.RandomGamma(p=0.22),\n",
    "    A.Solarize(threshold=128, p=0.2),\n",
    "])\n",
    "\n",
    "connectfourTransform = A.Compose([\n",
    "    A.augmentations.geometric.transforms.Perspective(p=1, scale=(0.005, 0.02)),\n",
    "    A.augmentations.transforms.OpticalDistortion(p=0.2),\n",
    "    A.augmentations.transforms.OpticalDistortion(p=0.2),\n",
    "    A.augmentations.geometric.transforms.ElasticTransform(p=0.2, alpha=1, sigma=0.5, alpha_affine=0.5),\n",
    "    A.RandomCrop(154, 154, p=0.25),\n",
    "    A.HorizontalFlip(p=0.5),\n",
    "    A.ColorJitter(brightness=0.55, contrast=0.6, saturation=0.6, hue=0.6, p=0.4),\n",
    "    A.GaussNoise(p=0.12),\n",
    "    A.Blur(blur_limit=3, p=0.22),\n",
    "    A.GlassBlur(max_delta=1, iterations=1, p=0.14),\n",
    "    A.CLAHE(p=0.22, tile_grid_size=(4, 4)),\n",
    "    A.Sharpen(p=0.18, alpha=0.2, lightness=1.5),\n",
    "    A.Emboss(p=0.18),\n",
    "    A.Equalize(p=0.04),\n",
    "    A.MultiplicativeNoise(p=0.22),\n",
    "    A.Resize(168, 168, p=1.0, interpolation=Image.NEAREST),\n",
    "    A.RandomBrightness(p=0.22),\n",
    "    A.RandomContrast(p=0.22),\n",
    "    A.RandomGamma(p=0.22),\n",
    "    A.Solarize(threshold=128, p=0.2),\n",
    "])"
   ]
  },
  {
   "cell_type": "code",
   "execution_count": null,
   "metadata": {},
   "outputs": [],
   "source": [
    "imgPath = '../TicTacToe/data/boards/raw/77.jpg'\n",
    "# imgPath = '../ConnectFour/data/boards/1.jpg'\n",
    "# imgPath = '1.jpg'\n",
    "img = Image.open(imgPath)\n",
    "# img = img.resize((168, 168))\n",
    "# img = img.convert('L')\n",
    "plt.imshow(img)\n"
   ]
  },
  {
   "cell_type": "code",
   "execution_count": null,
   "metadata": {},
   "outputs": [],
   "source": [
    "\n",
    "img2 = np.array(img)\n",
    "img2 = tictactoeTransform(image=img2)['image']\n",
    "plt.imshow(img2, cmap='gray')\n",
    "img2 = Image.fromarray(img2)\n",
    "img2.save('test.jpg')"
   ]
  },
  {
   "cell_type": "code",
   "execution_count": null,
   "metadata": {},
   "outputs": [],
   "source": [
    "clfModel = Model()\n",
    "clfModel.load_state_dict(torch.load('/home/robert/Documents/GitHub/OutSmarted/backend/Classification/classificaton.pth', map_location='cpu'))\n",
    "clfModel.eval()\n",
    "print()"
   ]
  }
 ],
 "metadata": {
  "interpreter": {
   "hash": "2177f1ca12c1330a133c1d40b46100b268ab447cddcbdfdc0c7b2b7e4840e700"
  },
  "kernelspec": {
   "display_name": "Python 3.8.12 ('myenv')",
   "language": "python",
   "name": "python3"
  },
  "language_info": {
   "codemirror_mode": {
    "name": "ipython",
    "version": 3
   },
   "file_extension": ".py",
   "mimetype": "text/x-python",
   "name": "python",
   "nbconvert_exporter": "python",
   "pygments_lexer": "ipython3",
   "version": "3.8.12"
  },
  "orig_nbformat": 4
 },
 "nbformat": 4,
 "nbformat_minor": 2
}
