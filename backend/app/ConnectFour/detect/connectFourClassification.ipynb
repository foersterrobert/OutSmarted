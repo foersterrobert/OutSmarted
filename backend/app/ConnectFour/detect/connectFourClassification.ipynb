{
 "cells": [
  {
   "cell_type": "code",
   "execution_count": null,
   "metadata": {},
   "outputs": [],
   "source": [
    "import torch\n",
    "import torch.nn as nn\n",
    "from torch.optim import AdamW\n",
    "from torchvision.transforms.functional import to_tensor\n",
    "import os\n",
    "from PIL import Image\n",
    "from tqdm.notebook import trange\n",
    "import torch.nn.functional as F\n",
    "from torch.utils.data import DataLoader\n",
    "import numpy as np\n",
    "import matplotlib.pyplot as plt\n",
    "# import wandb\n",
    "import random\n",
    "import albumentations as A\n",
    "import matplotlib.pyplot as plt"
   ]
  },
  {
   "cell_type": "code",
   "execution_count": null,
   "metadata": {},
   "outputs": [],
   "source": [
    "BATCH_SIZE = 256\n",
    "EPOCHS = 30\n",
    "\n",
    "DEVICE = torch.device(\"cuda\" if torch.cuda.is_available() else \"cpu\")\n",
    "print(DEVICE)"
   ]
  },
  {
   "cell_type": "code",
   "execution_count": null,
   "metadata": {},
   "outputs": [],
   "source": [
    "class Model(nn.Module):\n",
    "    def __init__(self):\n",
    "        super().__init__()\n",
    "        self.seq = nn.Sequential(\n",
    "            self._block(3, 32, 3),\n",
    "            self._block(32, 48, 3),\n",
    "            self._block(48, 64, 3),\n",
    "            self._block(64, 80, 3),\n",
    "            self._block(80, 96, 3),\n",
    "            self._block(96, 112, 3),\n",
    "            self._block(112, 128, 3),\n",
    "            self._block(128, 144, 3),\n",
    "            self._block(144, 164, 3),\n",
    "            self._block(164, 174, 3),\n",
    "            nn.Flatten(),\n",
    "            nn.Linear(2784, 3, bias=False),\n",
    "            nn.BatchNorm1d(3),\n",
    "        )\n",
    "\n",
    "    def _block(self, input_dim, output_dim, kernel_size):\n",
    "        return nn.Sequential(\n",
    "            nn.Conv2d(input_dim, output_dim, kernel_size, bias=False),\n",
    "            nn.BatchNorm2d(output_dim),\n",
    "            nn.ReLU()\n",
    "        )\n",
    "\n",
    "    def forward(self, x):\n",
    "        x = self.seq(x)\n",
    "        return F.log_softmax(x, dim=1)"
   ]
  },
  {
   "cell_type": "code",
   "execution_count": null,
   "metadata": {},
   "outputs": [],
   "source": [
    "class CustomDataset(torch.utils.data.Dataset):\n",
    "    def __init__(self, dir, transform=None):\n",
    "        self.dir = dir\n",
    "        self.transform = transform\n",
    "        self.n = len([imgFile for imgFile in os.listdir(dir) if imgFile.endswith('.jpg')])\n",
    "\n",
    "    def __len__(self):\n",
    "        return self.n\n",
    "\n",
    "    def __getitem__(self, idx):\n",
    "        img = Image.open(os.path.join(self.dir, f\"{idx}.jpg\"))\n",
    "        with open(os.path.join(self.dir, f\"{idx}.txt\")) as f:\n",
    "            label = f.read()\n",
    "        image = np.array(img)\n",
    "        if self.transform:\n",
    "            image = self.transform(image=image)['image']\n",
    "        return to_tensor(img), int(label)"
   ]
  },
  {
   "cell_type": "code",
   "execution_count": null,
   "metadata": {},
   "outputs": [],
   "source": [
    "transform = A.Compose([\n",
    "    A.HorizontalFlip(p=0.5),\n",
    "    A.VerticalFlip(p=0.5),\n",
    "    A.RandomRotate90(p=0.5),\n",
    "    A.RandomCrop(22, 22, p=0.4),\n",
    "    A.Blur(blur_limit=2, p=0.22),\n",
    "    A.CLAHE(p=0.11, tile_grid_size=(1, 1)),\n",
    "    A.Sharpen(p=0.18, alpha=0.1, lightness=1.5),\n",
    "    A.Emboss(p=0.05),\n",
    "    A.MultiplicativeNoise(p=0.22),\n",
    "    A.RandomBrightness(p=0.4),\n",
    "    A.RandomContrast(p=0.4),\n",
    "    A.ColorJitter(p=1, hue=0.05),\n",
    "    A.RandomGamma(p=0.08),\n",
    "    A.Resize(24, 24, p=1.0, interpolation=Image.NEAREST),\n",
    "])\n",
    "\n",
    "model = Model().to(DEVICE)\n",
    "optimizer = AdamW(model.parameters(), lr=0.001)\n",
    "\n",
    "train_dataset = CustomDataset(\n",
    "    dir='/home/robert/Documents/GitHub/OutSmarted/data/ConnectFour/fields', \n",
    "    transform=transform\n",
    ")\n",
    "print(train_dataset.n)\n",
    "train_loader = DataLoader(train_dataset, batch_size=BATCH_SIZE, shuffle=True)"
   ]
  },
  {
   "cell_type": "code",
   "execution_count": null,
   "metadata": {},
   "outputs": [],
   "source": [
    "def main():\n",
    "    model.train()\n",
    "    for epoch in trange(EPOCHS):\n",
    "        for i, (img, label) in enumerate(train_loader):\n",
    "            img, label = img.to(DEVICE), label.to(DEVICE)\n",
    "            outputs = model(img)\n",
    "            loss = F.nll_loss(outputs, label)\n",
    "            optimizer.zero_grad()\n",
    "            loss.backward()\n",
    "            optimizer.step()\n",
    "            if i % 350 == 0:\n",
    "                print(f\"loss example: {loss.item()}\")\n",
    "\n",
    "def show():\n",
    "    model.eval()\n",
    "    while True:\n",
    "        idx = int(input())\n",
    "        test1 = Image.open(f'/home/robert/Documents/GitHub/OutSmarted/data/ConnectFour/fields/{idx}.jpg')\n",
    "        plt.imshow(test1)\n",
    "        plt.show()\n",
    "        test1 = transform(image=np.array(test1))['image']\n",
    "        plt.imshow(test1)\n",
    "        plt.show()\n",
    "        with open(f'/home/robert/Documents/GitHub/OutSmarted/data/ConnectFour/fields/{idx}.txt') as f:\n",
    "            print(f.read())\n",
    "        output = model(to_tensor(test1).reshape(1, 3, 24, 24).to(DEVICE))\n",
    "        print(torch.argmax(output).item())"
   ]
  },
  {
   "cell_type": "code",
   "execution_count": null,
   "metadata": {},
   "outputs": [],
   "source": [
    "# model.load_state_dict(torch.load('connectFourField.pt'))\n",
    "main()"
   ]
  },
  {
   "cell_type": "code",
   "execution_count": null,
   "metadata": {},
   "outputs": [],
   "source": [
    "torch.save(model.state_dict(), 'connectFourField.pt')\n",
    "torch.save(optimizer.state_dict(), 'optimF.pth')"
   ]
  }
 ],
 "metadata": {
  "kernelspec": {
   "display_name": "Python 3.8.12 ('myenv')",
   "language": "python",
   "name": "python3"
  },
  "language_info": {
   "codemirror_mode": {
    "name": "ipython",
    "version": 3
   },
   "file_extension": ".py",
   "mimetype": "text/x-python",
   "name": "python",
   "nbconvert_exporter": "python",
   "pygments_lexer": "ipython3",
   "version": "3.8.13"
  },
  "orig_nbformat": 4,
  "vscode": {
   "interpreter": {
    "hash": "2177f1ca12c1330a133c1d40b46100b268ab447cddcbdfdc0c7b2b7e4840e700"
   }
  }
 },
 "nbformat": 4,
 "nbformat_minor": 2
}
