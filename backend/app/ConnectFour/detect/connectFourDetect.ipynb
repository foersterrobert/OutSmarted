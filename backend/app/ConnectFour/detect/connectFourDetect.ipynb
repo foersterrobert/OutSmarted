{
 "cells": [
  {
   "cell_type": "code",
   "execution_count": null,
   "metadata": {},
   "outputs": [],
   "source": [
    "import torch\n",
    "import torch.nn as nn\n",
    "from torch.optim import AdamW\n",
    "from torchvision.transforms.functional import to_tensor\n",
    "import os\n",
    "from PIL import Image\n",
    "from tqdm.notebook import trange\n",
    "import torch.nn.functional as F\n",
    "from torch.utils.data import DataLoader\n",
    "import numpy as np\n",
    "import matplotlib.pyplot as plt\n",
    "# import wandb\n",
    "import random\n",
    "import matplotlib.pyplot as plt"
   ]
  },
  {
   "cell_type": "code",
   "execution_count": null,
   "metadata": {},
   "outputs": [],
   "source": [
    "BATCH_SIZE = 64\n",
    "EPOCHS = 200\n",
    "\n",
    "DEVICE = torch.device(\"cuda\" if torch.cuda.is_available() else \"cpu\")\n",
    "print(DEVICE)"
   ]
  },
  {
   "cell_type": "code",
   "execution_count": null,
   "metadata": {},
   "outputs": [],
   "source": [
    "class BoardModel(nn.Module):\n",
    "    def __init__(self):\n",
    "        super(BoardModel, self).__init__()\n",
    "        self.layers = nn.Sequential(\n",
    "            ConvBlock(3, 32),\n",
    "            ConvBlock(32, 64, 2),\n",
    "            *[ResidualBlock(64, 64) for _ in range(1)],\n",
    "            ConvBlock(64, 128, 2),\n",
    "            *[ResidualBlock(128, 128) for _ in range(2)],\n",
    "            ConvBlock(128, 256, 2),\n",
    "            *[ResidualBlock(256, 256) for _ in range(3)],\n",
    "            ConvBlock(256, 128, 2),\n",
    "            *[ResidualBlock(128, 128) for _ in range(2)],\n",
    "            ConvBlock(128, 64, 2),\n",
    "            ConvBlock(64, 32, 2),\n",
    "            ConvBlock(32, 1, 1, kernel_size=(4, 2), act='sigmoid'),\n",
    "            nn.Flatten(),\n",
    "        )\n",
    "\n",
    "    def forward(self, x):\n",
    "        return self.layers(x)\n",
    "\n",
    "class ResidualBlock(nn.Module):\n",
    "    def __init__(self, in_channels, out_channels, stride=1):\n",
    "        super().__init__()\n",
    "        self.conv1 = nn.Conv2d(in_channels, out_channels, 3, padding=1, stride=stride, bias=False)\n",
    "        self.bn1 = nn.BatchNorm2d(out_channels)\n",
    "        self.conv2 = nn.Conv2d(out_channels, out_channels, 3, padding=1, stride=stride, bias=False)\n",
    "        self.bn2 = nn.BatchNorm2d(out_channels)\n",
    "\n",
    "    def forward(self, x):\n",
    "        residual = x\n",
    "        out = F.relu(self.bn1(self.conv1(x)))\n",
    "        out = self.bn2(self.conv2(out))\n",
    "        out += residual\n",
    "        out = F.relu(out)\n",
    "        return out\n",
    "\n",
    "class ConvBlock(nn.Module):\n",
    "    def __init__(self, in_channels, out_channels, stride=1, padding=1, kernel_size=3, act=None):\n",
    "        super().__init__()\n",
    "        self.conv = nn.Conv2d(in_channels, out_channels, kernel_size, padding=padding, stride=stride, bias=False)\n",
    "        self.act = act\n",
    "        if self.act != 'sigmoid':\n",
    "            self.bn = nn.BatchNorm2d(out_channels)\n",
    "\n",
    "    def forward(self, x):\n",
    "        if self.act == 'sigmoid':\n",
    "            out = F.sigmoid(self.conv(x))\n",
    "            return out\n",
    "        out = F.relu(self.bn(self.conv(x)))\n",
    "        return out"
   ]
  },
  {
   "cell_type": "code",
   "execution_count": null,
   "metadata": {},
   "outputs": [],
   "source": [
    "class CustomDataset(torch.utils.data.Dataset):\n",
    "    def __init__(self, dir, transform=None):\n",
    "        self.dir = dir\n",
    "        self.transform = transform\n",
    "        self.n = len([imgFile for imgFile in os.listdir(dir) if imgFile.endswith('.jpg')])\n",
    "\n",
    "    def __len__(self):\n",
    "        return self.n\n",
    "\n",
    "    def __getitem__(self, idx):\n",
    "        img_path = os.path.join(self.dir, f\"{idx}.jpg\")\n",
    "        img = Image.open(img_path)\n",
    "\n",
    "        cords_path = os.path.join(self.dir, f\"{idx}.txt\")\n",
    "        with open(cords_path, 'r') as f:\n",
    "            cords = f.read().replace('[', '').replace(']', '').split(',')\n",
    "        x1, y1, x2, y2, x3, y3, x4, y4 = [float(x) / 168 for x in cords]\n",
    "        cords = np.array([x1, y1, x2, y2, x3, y3, x4, y4], dtype=np.float32)\n",
    "\n",
    "        if self.transform and random.random() > 0.5:\n",
    "            img, cords = self.transform(img, cords)\n",
    "        return to_tensor(img), torch.from_numpy(cords)\n",
    "        \n",
    "def mirror(img, coords):\n",
    "    img_flipped, coords_flipped = img.transpose(Image.Transpose.FLIP_LEFT_RIGHT), coords.reshape(4, 2)\n",
    "    coords_flipped[:, 0] = 1 - coords_flipped[:, 0]\n",
    "    coords_flipped = coords_flipped.reshape(-1)\n",
    "    return img_flipped, coords_flipped"
   ]
  },
  {
   "cell_type": "code",
   "execution_count": null,
   "metadata": {},
   "outputs": [],
   "source": [
    "model = BoardModel().to(DEVICE)\n",
    "optimizer = AdamW(model.parameters(), lr=0.001)\n",
    "criterion = nn.MSELoss()\n",
    "\n",
    "train_dataset = CustomDataset(\n",
    "    dir='/home/robert/Documents/GitHub/OutSmarted/data/ConnectFour/boards + cords + fields', \n",
    "    transform=mirror\n",
    ")\n",
    "print(train_dataset.n)\n",
    "train_loader = DataLoader(train_dataset, batch_size=BATCH_SIZE, shuffle=True)"
   ]
  },
  {
   "cell_type": "code",
   "execution_count": null,
   "metadata": {},
   "outputs": [],
   "source": [
    "def main():\n",
    "    model.train()\n",
    "    for epoch in trange(EPOCHS):\n",
    "        for i, (img, cords) in enumerate(train_loader):\n",
    "            img, cords = img.to(DEVICE), cords.to(DEVICE)\n",
    "            outputs = model(img)\n",
    "            loss = criterion(outputs, cords)\n",
    "\n",
    "            optimizer.zero_grad()\n",
    "            loss.backward()\n",
    "            optimizer.step()\n",
    "            if i % 100 == 0:\n",
    "                print(f\"loss example: {loss.item()}\")\n",
    "        # wandb.log({\"loss\": loss.item()})\n",
    "\n",
    "@torch.no_grad()\n",
    "def show():\n",
    "    model.eval()\n",
    "    for i, (img, cords) in enumerate(train_loader):\n",
    "        img, cords = img.to(DEVICE), cords.to(DEVICE)\n",
    "        break\n",
    "    outputs = model(img)\n",
    "    img = img.cpu().numpy()\n",
    "    cords = cords.cpu().numpy()\n",
    "    outputs = outputs.cpu().numpy()\n",
    "    for i in range(5):\n",
    "        plot_image(img[i], cords[i], outputs[i])\n",
    "\n",
    "def plot_image(image, cords, outputs):\n",
    "    image = image.transpose(1, 2, 0)\n",
    "    cords = cords * 168\n",
    "    outputs = outputs * 168\n",
    "    cords = cords.reshape(4, 2)\n",
    "    outputs = outputs.reshape(4, 2)\n",
    "    fig, ax = plt.subplots(1, 1)\n",
    "    ax.imshow(image)\n",
    "    print(outputs)\n",
    "    ax.plot(cords[:, 0], cords[:, 1], 'ro')\n",
    "    ax.plot(outputs[:, 0], outputs[:, 1], 'bo')\n",
    "    plt.show()"
   ]
  },
  {
   "cell_type": "code",
   "execution_count": null,
   "metadata": {},
   "outputs": [],
   "source": [
    "main()"
   ]
  },
  {
   "cell_type": "code",
   "execution_count": null,
   "metadata": {},
   "outputs": [],
   "source": [
    "torch.save(model.state_dict(), 'model.pt')\n",
    "torch.save(optimizer.state_dict(), 'optim.pth')"
   ]
  },
  {
   "cell_type": "code",
   "execution_count": null,
   "metadata": {},
   "outputs": [],
   "source": [
    "show()"
   ]
  },
  {
   "cell_type": "code",
   "execution_count": null,
   "metadata": {},
   "outputs": [],
   "source": [
    "# test on real image\n",
    "test_img = Image.open('hqdefault.jpg')\n",
    "test_img = test_img.resize((168, 168))\n",
    "test_img = test_img.convert('RGB')\n",
    "imgT = to_tensor(test_img)\n",
    "imgT = imgT.unsqueeze(0)\n",
    "imgT = imgT.to(DEVICE)\n",
    "outputs = model(imgT)\n",
    "outputs = outputs.cpu().detach().numpy()\n",
    "outputs = outputs.reshape(4, 2)\n",
    "outputs = outputs * 168\n",
    "plt.imshow(test_img)\n",
    "plt.plot(outputs[:, 0], outputs[:, 1], 'ro')"
   ]
  }
 ],
 "metadata": {
  "kernelspec": {
   "display_name": "Python 3.8.12 ('myenv')",
   "language": "python",
   "name": "python3"
  },
  "language_info": {
   "codemirror_mode": {
    "name": "ipython",
    "version": 3
   },
   "file_extension": ".py",
   "mimetype": "text/x-python",
   "name": "python",
   "nbconvert_exporter": "python",
   "pygments_lexer": "ipython3",
   "version": "3.8.12"
  },
  "orig_nbformat": 4,
  "vscode": {
   "interpreter": {
    "hash": "2177f1ca12c1330a133c1d40b46100b268ab447cddcbdfdc0c7b2b7e4840e700"
   }
  }
 },
 "nbformat": 4,
 "nbformat_minor": 2
}
