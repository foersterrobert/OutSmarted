{
  "cells": [
    {
      "cell_type": "code",
      "execution_count": null,
      "metadata": {
        "colab": {
          "base_uri": "https://localhost:8080/"
        },
        "id": "qCS38MnulbcK",
        "outputId": "e1bad60c-e381-4b4b-9835-4f9ad25492af"
      },
      "outputs": [],
      "source": [
        "from google.colab import drive\n",
        "drive.mount('/content/drive')"
      ]
    },
    {
      "cell_type": "code",
      "execution_count": null,
      "metadata": {
        "colab": {
          "base_uri": "https://localhost:8080/"
        },
        "id": "GGWlaXveQFpQ",
        "outputId": "b025c3d0-2ea2-428b-ea04-0b7c717c109a"
      },
      "outputs": [],
      "source": [
        "# !pip install --upgrade albumentations\n",
        "# !pip install opencv-python-headless==4.1.2.30\n",
        "# !pip install wandb\n",
        "!wandb login"
      ]
    },
    {
      "cell_type": "code",
      "execution_count": null,
      "metadata": {
        "id": "8hX2kAuSla5h"
      },
      "outputs": [],
      "source": [
        "import torch\n",
        "import torch.nn as nn\n",
        "import torch.nn.functional as F\n",
        "from torch.utils.data import Dataset, DataLoader\n",
        "from torchvision.transforms.functional import to_tensor\n",
        "from torch.optim import AdamW\n",
        "import os\n",
        "import albumentations as A\n",
        "import numpy as np\n",
        "from PIL import Image\n",
        "import wandb"
      ]
    },
    {
      "cell_type": "code",
      "execution_count": null,
      "metadata": {
        "colab": {
          "base_uri": "https://localhost:8080/"
        },
        "id": "61rMsGcjla5m",
        "outputId": "1596d11c-3227-40f5-9c46-6ecf399c4cfe"
      },
      "outputs": [],
      "source": [
        "batch_size = 32\n",
        "num_epochs = 400\n",
        "\n",
        "device = torch.device('cuda' if torch.cuda.is_available() else 'cpu')\n",
        "print(device)"
      ]
    },
    {
      "cell_type": "code",
      "execution_count": null,
      "metadata": {
        "id": "xBI59mlIla5p"
      },
      "outputs": [],
      "source": [
        "class TicTacToeDataset(Dataset):\n",
        "    def __init__(self, img_dir, transform=None):\n",
        "        self.img_dir = img_dir\n",
        "        self.imgs = os.listdir(self.img_dir)\n",
        "        self.n = len(self.imgs)\n",
        "        self.transform = transform\n",
        "\n",
        "    def __len__(self):\n",
        "        return self.n\n",
        "\n",
        "    def __getitem__(self, idx):\n",
        "        img_path = os.path.join(self.img_dir, self.imgs[idx])\n",
        "        label = int(self.imgs[idx].split('.')[1]) + 1\n",
        "        image = Image.open(img_path)\n",
        "        image = np.array(image)\n",
        "        if self.transform:\n",
        "            image = self.transform(image=image)['image']\n",
        "        image = to_tensor(image)\n",
        "        return image, label"
      ]
    },
    {
      "cell_type": "code",
      "execution_count": null,
      "metadata": {
        "id": "C1bb2Drlla5q"
      },
      "outputs": [],
      "source": [
        "class Model(nn.Module):\n",
        "    def __init__(self):\n",
        "        super().__init__()\n",
        "        self.seq = nn.Sequential(\n",
        "            self._block(1, 32, 3),\n",
        "            self._block(32, 48, 3),\n",
        "            self._block(48, 64, 3),\n",
        "            self._block(64, 80, 3),\n",
        "            self._block(80, 96, 3),\n",
        "            self._block(96, 112, 3),\n",
        "            self._block(112, 128, 3),\n",
        "            self._block(128, 144, 3),\n",
        "            self._block(144, 160, 3),\n",
        "            self._block(160, 176, 3),\n",
        "            Flatten(),\n",
        "            nn.Linear(11264, 3, bias=False),\n",
        "            nn.BatchNorm1d(3),\n",
        "        )\n",
        "\n",
        "    def _block(self, input_dim, output_dim, kernel_size):\n",
        "        return nn.Sequential(\n",
        "            nn.Conv2d(input_dim, output_dim, kernel_size, bias=False),\n",
        "            nn.BatchNorm2d(output_dim),\n",
        "            nn.ReLU()\n",
        "        )\n",
        "\n",
        "    def forward(self, x):\n",
        "        x = self.seq(x)\n",
        "        return F.log_softmax(x, dim=1)\n",
        "\n",
        "class Flatten(nn.Module):\n",
        "    def forward(self, x):\n",
        "        return torch.flatten(x.permute(0, 2, 3, 1), 1)\n"
      ]
    },
    {
      "cell_type": "code",
      "execution_count": null,
      "metadata": {
        "colab": {
          "base_uri": "https://localhost:8080/"
        },
        "id": "4yj3vU1dla5s",
        "outputId": "34cbc301-c85e-4e04-8bc6-db017d23f92a"
      },
      "outputs": [],
      "source": [
        "model = Model().to(device)\n",
        "optimizer = AdamW(model.parameters())\n",
        "\n",
        "transform = A.Compose([\n",
        "    A.HorizontalFlip(p=0.5),\n",
        "    A.VerticalFlip(p=0.5),\n",
        "    A.RandomRotate90(p=0.5),\n",
        "    A.RandomCrop(26, 26, p=0.4),\n",
        "    A.InvertImg(p=0.18),\n",
        "    A.ColorJitter(brightness=0.55, contrast=0.6, saturation=0.6, hue=0.6, p=0.4),\n",
        "    A.Blur(blur_limit=2, p=0.22),\n",
        "    A.CLAHE(p=0.18, tile_grid_size=(2, 2)),\n",
        "    A.Sharpen(p=0.18, alpha=0.1, lightness=1.5),\n",
        "    A.Emboss(p=0.18),\n",
        "    A.MultiplicativeNoise(p=0.22),\n",
        "    A.RandomBrightness(p=0.4),\n",
        "    A.RandomContrast(p=0.4),\n",
        "    A.RandomGamma(p=0.2),\n",
        "    A.Resize(28, 28, p=1.0, interpolation=Image.NEAREST),\n",
        "])\n",
        "\n",
        "dataset = TicTacToeDataset('drive/MyDrive/fields/fields', transform=transform)\n",
        "dataloader = DataLoader(dataset, batch_size=batch_size, shuffle=True)\n",
        "\n",
        "wandb.config = {\n",
        "  \"learning_rate\": 0.001,\n",
        "  \"epochs\": 400,\n",
        "  \"batch_size\": 32\n",
        "}"
      ]
    },
    {
      "cell_type": "code",
      "execution_count": null,
      "metadata": {
        "id": "jiib6jvhla5t"
      },
      "outputs": [],
      "source": [
        "def main():\n",
        "    wandb.init(project=\"TicTacToeClassification\", entity=\"robertfoerster\")\n",
        "    example_ct = 0\n",
        "    for epoch in range(num_epochs):\n",
        "        for (value, label) in dataloader:\n",
        "            value, label = value.to(device), label.to(device)\n",
        "            output = model(value)\n",
        "            loss = F.nll_loss(output, label)\n",
        "            optimizer.zero_grad()\n",
        "            loss.backward()\n",
        "            optimizer.step()\n",
        "            \n",
        "            example_ct += len(value)\n",
        "            metrics = {\n",
        "                \"train/train_loss\": loss, \n",
        "                \"train/epoch\": epoch,\n",
        "                \"train/example_ct\": example_ct\n",
        "            }\n",
        "            wandb.log(metrics)\n",
        "    wandb.finish()"
      ]
    },
    {
      "cell_type": "code",
      "execution_count": null,
      "metadata": {
        "id": "qZzGrZQqj7NY"
      },
      "outputs": [],
      "source": [
        "model.load_state_dict(torch.load('drive/MyDrive/tictactoeField.pth'))\n",
        "optimizer.load_state_dict(torch.load('drive/MyDrive/optim.pth'))"
      ]
    },
    {
      "cell_type": "code",
      "execution_count": null,
      "metadata": {
        "colab": {
          "base_uri": "https://localhost:8080/",
          "height": 380
        },
        "id": "Ah0y2auPla5u",
        "outputId": "6681ec23-50bc-4f23-b955-423167f0dd82"
      },
      "outputs": [],
      "source": [
        "main()"
      ]
    },
    {
      "cell_type": "code",
      "execution_count": null,
      "metadata": {
        "id": "S005ERxsmW4v"
      },
      "outputs": [],
      "source": [
        "torch.save(model.state_dict(), 'drive/MyDrive/tictactoeField.pth')\n",
        "torch.save(optimizer.state_dict(), 'drive/MyDrive/optim.pth')"
      ]
    }
  ],
  "metadata": {
    "accelerator": "GPU",
    "colab": {
      "name": "TicTacToeClassification.ipynb",
      "provenance": []
    },
    "interpreter": {
      "hash": "2177f1ca12c1330a133c1d40b46100b268ab447cddcbdfdc0c7b2b7e4840e700"
    },
    "kernelspec": {
      "display_name": "Python 3.8.12 ('myenv')",
      "language": "python",
      "name": "python3"
    },
    "language_info": {
      "codemirror_mode": {
        "name": "ipython",
        "version": 3
      },
      "file_extension": ".py",
      "mimetype": "text/x-python",
      "name": "python",
      "nbconvert_exporter": "python",
      "pygments_lexer": "ipython3",
      "version": "3.8.12"
    },
    "orig_nbformat": 4
  },
  "nbformat": 4,
  "nbformat_minor": 0
}
