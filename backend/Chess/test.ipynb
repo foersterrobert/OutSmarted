{
 "cells": [
  {
   "cell_type": "code",
   "execution_count": 1,
   "metadata": {},
   "outputs": [],
   "source": [
    "import torch\n",
    "import torch.nn as nn\n",
    "import numpy as np\n",
    "import torch.nn.functional as F"
   ]
  },
  {
   "cell_type": "code",
   "execution_count": 2,
   "metadata": {},
   "outputs": [],
   "source": [
    "class Connect4Model(nn.Module):\n",
    "    def __init__(self, board_size, action_size):\n",
    "        super().__init__()\n",
    "        self.layers = nn.ModuleList(\n",
    "            [\n",
    "                ConvBlock(in_channels=1, out_channels=32, kernel_size=3, stride=1, padding=1),\n",
    "                ConvBlock(in_channels=32, out_channels=64, kernel_size=3, stride=1, padding=1),\n",
    "                ConvBlock(in_channels=64, out_channels=128, kernel_size=3, stride=1, padding=1),\n",
    "                ResidualBlock(channels=128, num_repeats=4),\n",
    "                ConvBlock(in_channels=128, out_channels=64, kernel_size=3, stride=1, padding=1),\n",
    "                ResidualBlock(channels=64, num_repeats=4),\n",
    "                ConvBlock(in_channels=64, out_channels=32, kernel_size=3, stride=1, padding=1),\n",
    "                ConvBlock(in_channels=32, out_channels=1, kernel_size=3, stride=1, padding=1),\n",
    "                nn.Flatten()\n",
    "            ]\n",
    "        )\n",
    "\n",
    "        # Two heads on our network\n",
    "        self.action_head = nn.Linear(in_features=board_size, out_features=action_size)\n",
    "        self.value_head = nn.Linear(in_features=board_size, out_features=1)\n",
    "\n",
    "    def forward(self, x):\n",
    "        for layer in self.layers:\n",
    "            x = layer(x)\n",
    "        action_logits = self.action_head(x)\n",
    "        value_logit = self.value_head(x)\n",
    "\n",
    "        return F.softmax(action_logits, dim=1), torch.tanh(value_logit)\n",
    "\n",
    "    def predict(self, board):\n",
    "        self.eval()\n",
    "        with torch.no_grad():\n",
    "            pi, v = self.forward(board)\n",
    "\n",
    "        return pi.data.cpu().numpy()[0], v.data.cpu().numpy()[0]\n",
    "\n",
    "class ConvBlock(nn.Module):\n",
    "    def __init__(self, in_channels, out_channels, **kwargs):\n",
    "        super().__init__()\n",
    "        self.conv = nn.Conv2d(in_channels, out_channels, **kwargs)\n",
    "        self.bn = nn.BatchNorm2d(out_channels)\n",
    "        self.relu = nn.ReLU()\n",
    "\n",
    "    def forward(self, x):\n",
    "        x = self.conv(x)\n",
    "        x = self.bn(x)\n",
    "        x = self.relu(x)\n",
    "        return x\n",
    "        \n",
    "class ResidualBlock(nn.Module):\n",
    "    def __init__(self, channels, num_repeats=1):\n",
    "        super().__init__()\n",
    "        self.num_repeats = num_repeats\n",
    "        self.layers = nn.ModuleList()\n",
    "        for _ in range(self.num_repeats):\n",
    "            self.layers += [\n",
    "                nn.Sequential(\n",
    "                    ConvBlock(channels, channels // 2, kernel_size=1),\n",
    "                    ConvBlock(channels // 2, channels, kernel_size=3, padding=1)\n",
    "                )\n",
    "            ]\n",
    "\n",
    "    def forward(self, x):\n",
    "        for layer in self.layers:\n",
    "            x = x + layer(x)\n",
    "        return x"
   ]
  },
  {
   "cell_type": "code",
   "execution_count": 3,
   "metadata": {},
   "outputs": [
    {
     "name": "stdout",
     "output_type": "stream",
     "text": [
      "\n"
     ]
    }
   ],
   "source": [
    "model = Connect4Model(6*7, action_size=7)\n",
    "model.load_state_dict(torch.load('move/AlphaZero.pth', map_location='cpu'))\n",
    "model.eval()\n",
    "print()"
   ]
  },
  {
   "cell_type": "code",
   "execution_count": 16,
   "metadata": {},
   "outputs": [
    {
     "name": "stdout",
     "output_type": "stream",
     "text": [
      "tensor([[0.5677, 0.1362, 0.0136, 0.1098, 0.0047, 0.1365, 0.0316]],\n",
      "       grad_fn=<SoftmaxBackward>)\n"
     ]
    }
   ],
   "source": [
    "board = np.zeros((6, 7))\n",
    "board[5, 4:] = 1\n",
    "\n",
    "move = model(torch.from_numpy(board).float().unsqueeze(0).unsqueeze(0))[0]#.argmax().item()\n",
    "print(move)"
   ]
  },
  {
   "cell_type": "code",
   "execution_count": 17,
   "metadata": {},
   "outputs": [
    {
     "name": "stdout",
     "output_type": "stream",
     "text": [
      "[[ 0.  0.  0.  0.  0.  0.  0.]\n",
      " [ 0.  0.  0.  0.  0.  0.  0.]\n",
      "[[0. 0. 0. 0. 0. 0. 0.]\n",
      " [0. 0. 0. 0. 0. 0. 0.]\n",
      " [0. 0. 0. 0. 0. 0. 0.]\n",
      " [0. 0. 0. 0. 0. 0. 0.]\n",
      " [0. 0. 0. 0. 0. 0. 0.]\n",
      " [0. 0. 0. 0. 1. 1. 1.]]\n"
     ]
    }
   ],
   "source": [
    "\n",
    "print(board)"
   ]
  },
  {
   "cell_type": "code",
   "execution_count": 21,
   "metadata": {},
   "outputs": [
    {
     "name": "stdout",
     "output_type": "stream",
     "text": [
      "0\n"
     ]
    }
   ],
   "source": [
    "move = model(torch.from_numpy(board).float().unsqueeze(0).unsqueeze(0))[0].argmax().item()\n",
    "print(move)"
   ]
  }
 ],
 "metadata": {
  "interpreter": {
   "hash": "2177f1ca12c1330a133c1d40b46100b268ab447cddcbdfdc0c7b2b7e4840e700"
  },
  "kernelspec": {
   "display_name": "Python 3.8.12 ('myenv')",
   "language": "python",
   "name": "python3"
  },
  "language_info": {
   "codemirror_mode": {
    "name": "ipython",
    "version": 3
   },
   "file_extension": ".py",
   "mimetype": "text/x-python",
   "name": "python",
   "nbconvert_exporter": "python",
   "pygments_lexer": "ipython3",
   "version": "3.8.12"
  },
  "orig_nbformat": 4
 },
 "nbformat": 4,
 "nbformat_minor": 2
}
