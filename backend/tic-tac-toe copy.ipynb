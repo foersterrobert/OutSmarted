{
 "cells": [
  {
   "cell_type": "code",
   "execution_count": 2,
   "metadata": {},
   "outputs": [
    {
     "name": "stdout",
     "output_type": "stream",
     "text": [
      "0 0 0 \n",
      "0 0 0 \n",
      "0 0 0 \n"
     ]
    }
   ],
   "source": [
    "import numpy as np\n",
    "import math\n",
    "#create a numpy array\n",
    "global field\n",
    "field = np.array([[0,0,0],[0,0,0],[0,0,0]], dtype=np.int8)\n",
    "#create a numpy array with the winning combinations\n",
    "def printfield():\n",
    "    for i in range(3):\n",
    "        for j in range(3):\n",
    "            print(field[i,j], end=\" \")\n",
    "        print()\n",
    "printfield()"
   ]
  },
  {
   "cell_type": "code",
   "execution_count": 3,
   "metadata": {},
   "outputs": [],
   "source": [
    "def checkForWin():\n",
    "\n",
    "    if (max(field.sum(axis=1)) == 3 or max(field.sum(axis=0)) == 3):\n",
    "        return 10\n",
    "    elif (min(field.sum(axis=1)) == -3 or min(field.sum(axis=0)) == -3):\n",
    "        return -10\n",
    "    elif (np.trace(field) == 3):\n",
    "        return 10\n",
    "    elif (np.trace(field) == -3):\n",
    "        return -10\n",
    "    elif (np.trace(np.fliplr(field)) == 3):\n",
    "        return 10\n",
    "    elif (np.trace(np.fliplr(field)) == -3):\n",
    "        return -10\n",
    "    elif np.count_nonzero(field) == 9:\n",
    "        return 0\n",
    "    \n",
    "    return False\n"
   ]
  },
  {
   "cell_type": "code",
   "execution_count": 8,
   "metadata": {},
   "outputs": [],
   "source": [
    "def minimax(field, depth, isMaximizing):\n",
    "    result = checkForWin()\n",
    "    if result != False:\n",
    "        return result\n",
    "    if (isMaximizing):\n",
    "        bestScore = -math.inf\n",
    "        for i in range(3):\n",
    "            for j in range(3):\n",
    "                if field[i][j] == 0:\n",
    "                    field[i][j] = -1\n",
    "                    score = minimax(field, depth + 1, False)\n",
    "                    field[i][j] = 0\n",
    "                    bestScore = max(score, bestScore)\n",
    "    else:\n",
    "        bestScore = math.inf\n",
    "        for i in range(3):\n",
    "            for j in range(3):\n",
    "                if field[i][j] == 0:\n",
    "                    field[i][j] = 1\n",
    "                    score = minimax(field, depth + 1, True)\n",
    "                    field[i][j] = 0\n",
    "                    bestScore = min(score, bestScore)\n",
    "    return bestScore"
   ]
  },
  {
   "cell_type": "code",
   "execution_count": 5,
   "metadata": {},
   "outputs": [],
   "source": [
    "def bestmove():\n",
    "    bestScore = -math.inf\n",
    "    for i in range(3):\n",
    "        for j in range(3):\n",
    "            if field[i][j] == 0:\n",
    "                field[i][j] = -1\n",
    "                # print(\"Possible move: \", i, j)\n",
    "                score = minimax(field, 0, True)\n",
    "                # printfield()\n",
    "                field[i][j] = 0\n",
    "                if score > bestScore:\n",
    "                    bestScore = score\n",
    "                    move = (i,j)\n",
    "                    # print(move)\n",
    "    field[move[0]][move[1]] = -1"
   ]
  },
  {
   "cell_type": "code",
   "execution_count": 6,
   "metadata": {},
   "outputs": [],
   "source": [
    "def playerinput():\n",
    "    while True:\n",
    "        x = int(input(\"Enter the row: \"))\n",
    "        y = int(input(\"Enter the column: \"))\n",
    "        if field[x][y] == 0:\n",
    "            field[x][y] = 1\n",
    "            break\n",
    "        else:\n",
    "            print(\"Invalid move\")\n",
    "            printfield()\n",
    "            playerinput()"
   ]
  },
  {
   "cell_type": "code",
   "execution_count": 10,
   "metadata": {},
   "outputs": [
    {
     "name": "stdout",
     "output_type": "stream",
     "text": [
      "0 0 0 \n",
      "0 0 0 \n",
      "0 0 0 \n",
      "-------------------\n",
      "1 0 0 \n",
      "0 0 0 \n",
      "0 0 0 \n",
      "-------------------\n",
      "1 -1 0 \n",
      "0 0 0 \n",
      "0 0 0 \n",
      "-------------------\n",
      "1 -1 0 \n",
      "0 1 0 \n",
      "0 0 0 \n",
      "-------------------\n",
      "1 -1 -1 \n",
      "0 1 0 \n",
      "0 0 0 \n",
      "-------------------\n"
     ]
    }
   ],
   "source": [
    "field = np.array([[0,0,0],[0,0,0],[0,0,0]], dtype=np.int8)\n",
    "while (checkForWin() == False):\n",
    "    printfield()\n",
    "    print(\"-------------------\")\n",
    "    playerinput()\n",
    "    printfield()\n",
    "    if checkForWin() == False:\n",
    "        print(\"-------------------\")\n",
    "        # field = np.array(eval((input(\"Enter the entire field:\"))), dtype=np.int8)\n",
    "        bestmove()\n",
    "        # print(field.tolist())\n",
    "    else:\n",
    "        printfield()\n",
    "        print(\"-------------------\")\n",
    "        print(\"The winner is: \", checkForWin())\n",
    "if (checkForWin() == 10):\n",
    "    printfield()\n",
    "    print(\"You win!\")\n",
    "elif (checkForWin() == -10):\n",
    "    printfield()\n",
    "    print(\"You Lost!\")\n",
    "elif (checkForWin() == 0):\n",
    "    printfield()\n",
    "    print(\"Draw!\")\n",
    "else:\n",
    "    print(\"Something went wrong\")"
   ]
  }
 ],
 "metadata": {
  "interpreter": {
   "hash": "916dbcbb3f70747c44a77c7bcd40155683ae19c65e1c03b4aa3499c5328201f1"
  },
  "kernelspec": {
   "display_name": "Python 3.8.10 64-bit",
   "language": "python",
   "name": "python3"
  },
  "language_info": {
   "codemirror_mode": {
    "name": "ipython",
    "version": 3
   },
   "file_extension": ".py",
   "mimetype": "text/x-python",
   "name": "python",
   "nbconvert_exporter": "python",
   "pygments_lexer": "ipython3",
   "version": "3.8.10"
  },
  "orig_nbformat": 4
 },
 "nbformat": 4,
 "nbformat_minor": 2
}
