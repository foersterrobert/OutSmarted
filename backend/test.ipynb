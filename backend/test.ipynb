{
 "cells": [
  {
   "cell_type": "code",
   "execution_count": 1,
   "metadata": {},
   "outputs": [],
   "source": [
    "import tictactoe as ttt\n",
    "import cv2\n",
    "import numpy as np"
   ]
  },
  {
   "cell_type": "code",
   "execution_count": 4,
   "metadata": {},
   "outputs": [
    {
     "data": {
      "text/plain": [
       "[[1, -1, 1], [1, 1, -2], [-1, 0, 0]]"
      ]
     },
     "execution_count": 4,
     "metadata": {},
     "output_type": "execute_result"
    }
   ],
   "source": [
    "def bestmove(field):\n",
    "    for i in range(3):\n",
    "        for j in range(3):\n",
    "            if field[i][j] == 0:\n",
    "                field[i][j] = -2\n",
    "                return field\n",
    "    return field\n",
    "\n",
    "\n",
    "def tictactoeState(image):\n",
    "    image = cv2.cvtColor(np.array(image), cv2.COLOR_RGB2BGR)\n",
    "    resized_original_image = cv2.resize(image, (480, 480))\n",
    "    img = ttt.pre_processing(resized_original_image)\n",
    "    img = ttt.build_around_to_500(img)\n",
    "    contours = ttt.find_contours(img, 3)\n",
    "    contours = ttt.move_contours_back_to_480(contours)\n",
    "    state = ttt.find_digital_game_array(contours, ttt.recognize_contour_type)\n",
    "    state = bestmove(state)\n",
    "    return state.astype(int).tolist()\n",
    "\n",
    "tictactoeState(cv2.imread('9.png'))"
   ]
  }
 ],
 "metadata": {
  "interpreter": {
   "hash": "916dbcbb3f70747c44a77c7bcd40155683ae19c65e1c03b4aa3499c5328201f1"
  },
  "kernelspec": {
   "display_name": "Python 3.8.10 64-bit",
   "language": "python",
   "name": "python3"
  },
  "language_info": {
   "codemirror_mode": {
    "name": "ipython",
    "version": 3
   },
   "file_extension": ".py",
   "mimetype": "text/x-python",
   "name": "python",
   "nbconvert_exporter": "python",
   "pygments_lexer": "ipython3",
   "version": "3.8.12"
  },
  "orig_nbformat": 4
 },
 "nbformat": 4,
 "nbformat_minor": 2
}
