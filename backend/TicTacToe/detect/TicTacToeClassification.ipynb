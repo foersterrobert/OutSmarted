{
  "cells": [
    {
      "cell_type": "code",
      "execution_count": null,
      "metadata": {
        "colab": {
          "base_uri": "https://localhost:8080/"
        },
        "id": "qCS38MnulbcK",
        "outputId": "4770c23a-54e3-4b15-bd54-f953dc28d20f"
      },
      "outputs": [],
      "source": [
        "from google.colab import drive\n",
        "drive.mount('/content/drive')"
      ]
    },
    {
      "cell_type": "code",
      "execution_count": null,
      "metadata": {
        "id": "8hX2kAuSla5h"
      },
      "outputs": [],
      "source": [
        "import torch\n",
        "import torch.nn as nn\n",
        "import torch.nn.functional as F\n",
        "from torch.utils.data import Dataset, DataLoader\n",
        "from torchvision.transforms.functional import to_tensor\n",
        "from torch.optim import Adam\n",
        "import os\n",
        "import pandas as pd\n",
        "import albumentations as A\n",
        "import numpy as np\n",
        "from PIL import Image"
      ]
    },
    {
      "cell_type": "code",
      "execution_count": null,
      "metadata": {
        "colab": {
          "base_uri": "https://localhost:8080/"
        },
        "id": "61rMsGcjla5m",
        "outputId": "dd7a4bd5-ff7a-44b2-e666-8923970f2868"
      },
      "outputs": [],
      "source": [
        "batch_size = 30\n",
        "num_epochs = 1200\n",
        "\n",
        "device = torch.device('cuda' if torch.cuda.is_available() else 'cpu')\n",
        "print(device)"
      ]
    },
    {
      "cell_type": "code",
      "execution_count": null,
      "metadata": {
        "id": "xBI59mlIla5p"
      },
      "outputs": [],
      "source": [
        "class TicTacToeDataset(Dataset):\n",
        "    def __init__(self, img_dir, df, transform=None):\n",
        "        self.img_dir = img_dir\n",
        "        self.df = pd.read_csv(df)\n",
        "        self.n = len(os.listdir(self.img_dir))\n",
        "        self.transform = transform\n",
        "\n",
        "    def __len__(self):\n",
        "        return self.n\n",
        "\n",
        "    def __getitem__(self, idx):\n",
        "        idx, img_path, label = self.df.iloc[idx, :].values\n",
        "        label = label+1\n",
        "        image = Image.open(os.path.join(self.img_dir, img_path))\n",
        "        image = np.array(image)\n",
        "        if self.transform:\n",
        "            image = self.transform(image=image)['image']\n",
        "        image = to_tensor(image)\n",
        "        return image, label"
      ]
    },
    {
      "cell_type": "code",
      "execution_count": null,
      "metadata": {
        "id": "C1bb2Drlla5q"
      },
      "outputs": [],
      "source": [
        "class Model(nn.Module):\n",
        "    def __init__(self):\n",
        "        super().__init__()\n",
        "        self.seq = nn.Sequential(\n",
        "            self._block(1, 32, 3),\n",
        "            self._block(32, 48, 3),\n",
        "            self._block(48, 64, 3),\n",
        "            self._block(64, 80, 3),\n",
        "            self._block(80, 96, 3),\n",
        "            self._block(96, 112, 3),\n",
        "            self._block(112, 128, 3),\n",
        "            self._block(128, 144, 3),\n",
        "            self._block(144, 160, 3),\n",
        "            self._block(160, 176, 3),\n",
        "            Flatten(),\n",
        "            nn.Linear(11264, 3, bias=False),\n",
        "            nn.BatchNorm1d(3),\n",
        "        )\n",
        "\n",
        "    def _block(self, input_dim, output_dim, kernel_size):\n",
        "        return nn.Sequential(\n",
        "            nn.Conv2d(input_dim, output_dim, kernel_size, bias=False),\n",
        "            nn.BatchNorm2d(output_dim),\n",
        "            nn.ReLU()\n",
        "        )\n",
        "\n",
        "    def forward(self, x):\n",
        "        x = self.seq(x)\n",
        "        return F.log_softmax(x, dim=1)\n",
        "\n",
        "class Flatten(nn.Module):\n",
        "    def forward(self, x):\n",
        "        return torch.flatten(x.permute(0, 2, 3, 1), 1)\n"
      ]
    },
    {
      "cell_type": "code",
      "execution_count": null,
      "metadata": {
        "id": "4yj3vU1dla5s"
      },
      "outputs": [],
      "source": [
        "model = Model().to(device)\n",
        "optimizer = Adam(model.parameters(), lr=0.001)\n",
        "\n",
        "transform = A.Compose([\n",
        "    A.HorizontalFlip(p=0.5),\n",
        "    A.VerticalFlip(p=0.5),\n",
        "    A.RandomRotate90(p=0.5),\n",
        "    A.RandomCrop(26, 26, p=0.4),\n",
        "    A.InvertImg(p=0.25),\n",
        "    A.GaussNoise(p=0.35),\n",
        "    A.RandomBrightnessContrast(brightness_limit=(-0.15, 0.15), contrast_limit=(-0.15, 0.15), p=0.5),\n",
        "    A.Resize(28, 28, p=1.0, interpolation=Image.NEAREST),\n",
        "])\n",
        "\n",
        "class_sample_count = [800, 1606]\n",
        "weights = 1 / torch.Tensor(class_sample_count).float()\n",
        "sampler = torch.utils.data.sampler.WeightedRandomSampler(weights, batch_size)\n",
        "\n",
        "dataset = TicTacToeDataset('drive/MyDrive/fields', 'drive/MyDrive/fields.csv', transform=transform)\n",
        "dataloader = DataLoader(dataset, batch_size=batch_size, shuffle=True, sampler=sampler)"
      ]
    },
    {
      "cell_type": "code",
      "execution_count": null,
      "metadata": {
        "id": "jiib6jvhla5t"
      },
      "outputs": [],
      "source": [
        "def main():\n",
        "    for epoch in range(num_epochs):\n",
        "        print(epoch)\n",
        "        for (value, label) in dataloader:\n",
        "            value, label = value.to(device), label.to(device)\n",
        "            output = model(value)\n",
        "            loss = F.nll_loss(output, label)\n",
        "            optimizer.zero_grad()\n",
        "            loss.backward()\n",
        "            optimizer.step()"
      ]
    },
    {
      "cell_type": "code",
      "execution_count": null,
      "metadata": {
        "colab": {
          "base_uri": "https://localhost:8080/"
        },
        "id": "Ah0y2auPla5u",
        "outputId": "a18033f7-b635-4976-b7d0-66bd273163ac"
      },
      "outputs": [],
      "source": [
        "main()"
      ]
    },
    {
      "cell_type": "code",
      "execution_count": null,
      "metadata": {
        "id": "S005ERxsmW4v"
      },
      "outputs": [],
      "source": [
        "torch.save(model.state_dict(), 'drive/MyDrive/tictactoeField.pth')"
      ]
    }
  ],
  "metadata": {
    "accelerator": "GPU",
    "colab": {
      "name": "TicTacToeClassification.ipynb",
      "provenance": []
    },
    "interpreter": {
      "hash": "2177f1ca12c1330a133c1d40b46100b268ab447cddcbdfdc0c7b2b7e4840e700"
    },
    "kernelspec": {
      "display_name": "Python 3.8.12 ('myenv')",
      "language": "python",
      "name": "python3"
    },
    "language_info": {
      "codemirror_mode": {
        "name": "ipython",
        "version": 3
      },
      "file_extension": ".py",
      "mimetype": "text/x-python",
      "name": "python",
      "nbconvert_exporter": "python",
      "pygments_lexer": "ipython3",
      "version": "3.8.12"
    },
    "orig_nbformat": 4
  },
  "nbformat": 4,
  "nbformat_minor": 0
}
