{
 "cells": [
  {
   "cell_type": "code",
   "execution_count": 15,
   "metadata": {},
   "outputs": [],
   "source": [
    "import os\n",
    "from PIL import Image\n",
    "import pandas as pd\n",
    "import math"
   ]
  },
  {
   "cell_type": "code",
   "execution_count": 24,
   "metadata": {},
   "outputs": [],
   "source": [
    "# Extract fields from boards\n",
    "for i in range(100):\n",
    "    board = Image.open('boards/'+str(i)+\".jpg\")\n",
    "    with open('boards/'+str(i)+\".txt\", 'r') as f:\n",
    "        lines = f.readlines()\n",
    "    for idx, line in enumerate(lines):\n",
    "        _, x, y, w, h = line.replace(\"\\n\", '').split()\n",
    "        x, y, w, h = float(x)*168, float(y)*168, float(w)*168, float(h)*168\n",
    "        field = board.crop((\n",
    "            int(x)-math.ceil(w/2),\n",
    "            int(y)-math.ceil(h/2),\n",
    "            int(x)+int(w/2),\n",
    "            int(y)+int(h/2)\n",
    "        ))\n",
    "        field = field.resize((28, 28))\n",
    "        field.save('fields/'+str(i*9+idx)+\".jpg\")\n",
    "    "
   ]
  },
  {
   "cell_type": "code",
   "execution_count": 42,
   "metadata": {},
   "outputs": [],
   "source": [
    "# Structure Roboflow data\n",
    "fields0 = os.listdir('train/0')\n",
    "fields1 = os.listdir('train/1')\n",
    "fields_1 = os.listdir('train/-1')\n",
    "\n",
    "names = []\n",
    "labels = []\n",
    "\n",
    "for idx, field in enumerate(fields0):\n",
    "    img = Image.open('train/0/'+field)\n",
    "    img = img.resize((28, 28))\n",
    "    img = img.convert('L')\n",
    "    img.save('fields/'+str(idx)+\".jpg\")\n",
    "    names.append(str(idx)+\".jpg\")\n",
    "    labels.append(0)\n",
    "\n",
    "for idx, field in enumerate(fields1):\n",
    "    img = Image.open('train/1/'+field)\n",
    "    img = img.resize((28, 28))\n",
    "    img = img.convert('L')\n",
    "    img.save('fields/'+str(idx+len(fields0))+\".jpg\")\n",
    "    names.append(str(idx+len(fields0))+\".jpg\")\n",
    "    labels.append(1)\n",
    "\n",
    "for idx, field in enumerate(fields_1):\n",
    "    img = Image.open('train/-1/'+field)\n",
    "    img = img.resize((28, 28))\n",
    "    img = img.convert('L')\n",
    "    img.save('fields/'+str(idx+len(fields0)+len(fields1))+\".jpg\")\n",
    "    names.append(str(idx+len(fields0)+len(fields1))+\".jpg\")\n",
    "    labels.append(-1)\n",
    "\n",
    "fields = pd.DataFrame(list(zip(names, labels)), columns=['name', 'label'])\n",
    "fields.to_csv('fields.csv')"
   ]
  }
 ],
 "metadata": {
  "interpreter": {
   "hash": "2177f1ca12c1330a133c1d40b46100b268ab447cddcbdfdc0c7b2b7e4840e700"
  },
  "kernelspec": {
   "display_name": "Python 3.8.12 ('myenv')",
   "language": "python",
   "name": "python3"
  },
  "language_info": {
   "codemirror_mode": {
    "name": "ipython",
    "version": 3
   },
   "file_extension": ".py",
   "mimetype": "text/x-python",
   "name": "python",
   "nbconvert_exporter": "python",
   "pygments_lexer": "ipython3",
   "version": "3.8.12"
  },
  "orig_nbformat": 4
 },
 "nbformat": 4,
 "nbformat_minor": 2
}
