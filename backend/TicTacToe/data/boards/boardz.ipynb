{
 "cells": [
  {
   "cell_type": "code",
   "execution_count": 4,
   "metadata": {},
   "outputs": [],
   "source": [
    "import os\n",
    "import shutil"
   ]
  },
  {
   "cell_type": "code",
   "execution_count": 9,
   "metadata": {},
   "outputs": [],
   "source": [
    "os.makedirs('boardz', exist_ok=True)\n",
    "\n",
    "for i in range(100):\n",
    "    shutil.copyfile('raw/' + str(i) + '.jpg', 'boardz/' + str(i) + '.jpg')\n",
    "    shutil.copyfile('raw/' + str(i) + '.txt', 'boardz/' + str(i) + '.txt')\n",
    "\n",
    "for i in range(100):\n",
    "    shutil.copyfile('rot90/' + str(i) + '.jpg', 'boardz/' + str(i+100) + '.jpg')\n",
    "    shutil.copyfile('rot90/' + str(i) + '.txt', 'boardz/' + str(i+100) + '.txt')\n",
    "\n",
    "for i in range(100):\n",
    "    shutil.copyfile('rot180/' + str(i) + '.jpg', 'boardz/' + str(i+200) + '.jpg')\n",
    "    shutil.copyfile('rot180/' + str(i) + '.txt', 'boardz/' + str(i+200) + '.txt')\n",
    "\n",
    "for i in range(100):\n",
    "    shutil.copyfile('rot270/' + str(i) + '.jpg', 'boardz/' + str(i+300) + '.jpg')\n",
    "    shutil.copyfile('rot270/' + str(i) + '.txt', 'boardz/' + str(i+300) + '.txt')\n",
    "\n",
    "for i in range(100):\n",
    "    shutil.copyfile('flipped_axis_1/' + str(i) + '.jpg', 'boardz/' + str(i+400) + '.jpg')\n",
    "    shutil.copyfile('flipped_axis_1/' + str(i) + '.txt', 'boardz/' + str(i+400) + '.txt')\n",
    "\n",
    "for i in range(100):\n",
    "    shutil.copyfile('flipped_axis_1_rot90/' + str(i) + '.jpg', 'boardz/' + str(i+500) + '.jpg')\n",
    "    shutil.copyfile('flipped_axis_1_rot90/' + str(i) + '.txt', 'boardz/' + str(i+500) + '.txt')\n",
    "\n",
    "for i in range(100):\n",
    "    shutil.copyfile('flipped_axis_1_rot180/' + str(i) + '.jpg', 'boardz/' + str(i+600) + '.jpg')\n",
    "    shutil.copyfile('flipped_axis_1_rot180/' + str(i) + '.txt', 'boardz/' + str(i+600) + '.txt')\n",
    "\n",
    "for i in range(100):\n",
    "    shutil.copyfile('flipped_axis_1_rot270/' + str(i) + '.jpg', 'boardz/' + str(i+700) + '.jpg')\n",
    "    shutil.copyfile('flipped_axis_1_rot270/' + str(i) + '.txt', 'boardz/' + str(i+700) + '.txt')\n"
   ]
  }
 ],
 "metadata": {
  "interpreter": {
   "hash": "2177f1ca12c1330a133c1d40b46100b268ab447cddcbdfdc0c7b2b7e4840e700"
  },
  "kernelspec": {
   "display_name": "Python 3.8.12 ('myenv')",
   "language": "python",
   "name": "python3"
  },
  "language_info": {
   "codemirror_mode": {
    "name": "ipython",
    "version": 3
   },
   "file_extension": ".py",
   "mimetype": "text/x-python",
   "name": "python",
   "nbconvert_exporter": "python",
   "pygments_lexer": "ipython3",
   "version": "3.8.12"
  },
  "orig_nbformat": 4
 },
 "nbformat": 4,
 "nbformat_minor": 2
}
