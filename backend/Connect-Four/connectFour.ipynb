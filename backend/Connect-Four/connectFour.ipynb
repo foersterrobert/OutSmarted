{
    "cells": [
        {
            "cell_type": "code",
            "execution_count": null,
            "metadata": {},
            "outputs": [],
            "source": [
                "import cv2\n",
                "import numpy as np\n",
                "import matplotlib.pyplot as plt\n",
                "from PIL import Image"
            ]
        },
        {
            "cell_type": "code",
            "execution_count": null,
            "metadata": {},
            "outputs": [],
            "source": [
                "img = cv2.imread('image.jpg')\n",
                "img = cv2.resize(img, (500, 500))\n",
                "\n",
                "def showImage(img):\n",
                "    plt.imshow(cv2.cvtColor(img, cv2.COLOR_BGR2RGB))\n",
                "    plt.show()\n",
                "\n",
                "showImage(img)"
            ]
        },
        {
            "cell_type": "code",
            "execution_count": null,
            "metadata": {},
            "outputs": [],
            "source": [
                "blueImg = img[:,:,2]\n",
                "plt.imshow(blueImg, cmap = 'gray')\n",
                "plt.show()"
            ]
        },
        {
            "cell_type": "code",
            "execution_count": null,
            "metadata": {},
            "outputs": [],
            "source": [
                "hsvImg = cv2.cvtColor(img, cv2.COLOR_BGR2HSV)\n",
                "testImg = abs(hsvImg[:,:,1] - 0.615)\n",
                "testImg = np.where(testImg < 150, 0, testImg)\n",
                "plt.imshow(testImg, cmap='gray')\n",
                "plt.show()"
            ]
        },
        {
            "cell_type": "code",
            "execution_count": null,
            "metadata": {},
            "outputs": [],
            "source": [
                "bilateral_filtered_image = cv2.bilateralFilter(img, 15, 190, 190)\n",
                "edge_detected_image = cv2.Canny(bilateral_filtered_image, 75, 150)\n",
                "contours, hierarchy = cv2.findContours(edge_detected_image, cv2.RETR_TREE, cv2.CHAIN_APPROX_SIMPLE)\n",
                "showImage(edge_detected_image)\n",
                "\n"
            ]
        },
        {
            "cell_type": "code",
            "execution_count": null,
            "metadata": {},
            "outputs": [],
            "source": [
                "edge_detected_image.shape"
            ]
        },
        {
            "cell_type": "code",
            "execution_count": null,
            "metadata": {},
            "outputs": [],
            "source": [
                "contour_list = []\n",
                "rect_list = []\n",
                "position_list = []\n",
                "img_w, img_h = img.shape[0], img.shape[1]\n",
                "# print(img_w, img_h)\n",
                "\n",
                "for contour in contours:\n",
                "    approx = cv2.approxPolyDP(contour,0.01*cv2.arcLength(contour,True),True) # Contour Polygons\n",
                "    area = cv2.contourArea(contour)\n",
                "    \n",
                "    rect = cv2.boundingRect(contour) # Polygon bounding rectangles\n",
                "    x_rect,y_rect,w_rect,h_rect = rect\n",
                "    x_rect +=  w_rect/2\n",
                "    y_rect += h_rect/2\n",
                "    area_rect = w_rect*h_rect\n",
                "    \n",
                "    if ((len(approx) > 8) & (len(approx) < 23) & (area > 250) & (area_rect < (img_w*img_h)/5)) & (w_rect in range(h_rect-10,h_rect+10)): # Circle conditions\n",
                "        contour_list.append(contour)\n",
                "        position_list.append((x_rect,y_rect))\n",
                "        rect_list.append(rect)\n",
                "\n",
                "img_circle_contours = img.copy()\n",
                "cv2.drawContours(img_circle_contours, contour_list,  -1, (0,255,0), thickness=1) # Display Circles\n",
                "for rect in rect_list:\n",
                "    x,y,w,h = rect\n",
                "    cv2.rectangle(img_circle_contours,(x,y),(x+w,y+h),(0,0,255),1)\n",
                "showImage(img_circle_contours)"
            ]
        }
    ],
    "metadata": {
        "interpreter": {
            "hash": "2177f1ca12c1330a133c1d40b46100b268ab447cddcbdfdc0c7b2b7e4840e700"
        },
        "kernelspec": {
            "display_name": "Python 3.8.12 ('myenv')",
            "language": "python",
            "name": "python3"
        },
        "language_info": {
            "codemirror_mode": {
                "name": "ipython",
                "version": 3
            },
            "file_extension": ".py",
            "mimetype": "text/x-python",
            "name": "python",
            "nbconvert_exporter": "python",
            "pygments_lexer": "ipython3",
            "version": "3.8.12"
        },
        "orig_nbformat": 4
    },
    "nbformat": 4,
    "nbformat_minor": 2
}
