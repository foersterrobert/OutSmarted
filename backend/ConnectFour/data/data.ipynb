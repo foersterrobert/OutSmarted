{
 "cells": [
  {
   "cell_type": "code",
   "execution_count": 1,
   "metadata": {},
   "outputs": [],
   "source": [
    "import os\n",
    "from PIL import Image"
   ]
  },
  {
   "cell_type": "code",
   "execution_count": 3,
   "metadata": {},
   "outputs": [],
   "source": [
    "files = os.listdir('raw')\n",
    "\n",
    "for idx, i in enumerate(files):\n",
    "    image = Image.open('raw/' + i)\n",
    "    image = image.resize((168, 168))\n",
    "    image = image.convert('L')\n",
    "    image.save('boards/' + str(idx) + '.jpg')\n",
    "\n",
    "files1 = os.listdir('raw2')\n",
    "\n",
    "for idx, i in enumerate(files1):\n",
    "    image = Image.open('raw2/' + i)\n",
    "    image = image.resize((168, 168))\n",
    "    image = image.convert('L')\n",
    "    image.save('boards/' + str(idx+len(files)) + '.jpg')\n",
    "\n",
    "\n"
   ]
  }
 ],
 "metadata": {
  "interpreter": {
   "hash": "2177f1ca12c1330a133c1d40b46100b268ab447cddcbdfdc0c7b2b7e4840e700"
  },
  "kernelspec": {
   "display_name": "Python 3.8.12 ('myenv')",
   "language": "python",
   "name": "python3"
  },
  "language_info": {
   "codemirror_mode": {
    "name": "ipython",
    "version": 3
   },
   "file_extension": ".py",
   "mimetype": "text/x-python",
   "name": "python",
   "nbconvert_exporter": "python",
   "pygments_lexer": "ipython3",
   "version": "3.8.12"
  },
  "orig_nbformat": 4
 },
 "nbformat": 4,
 "nbformat_minor": 2
}
